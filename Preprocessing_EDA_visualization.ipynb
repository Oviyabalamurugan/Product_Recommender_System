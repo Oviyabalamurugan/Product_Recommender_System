{
  "nbformat": 4,
  "nbformat_minor": 0,
  "metadata": {
    "colab": {
      "name": "ML_Project_R1_preprocessing_EDA_visualization.ipynb",
      "provenance": [],
      "collapsed_sections": []
    },
    "kernelspec": {
      "display_name": "Python 3",
      "name": "python3"
    },
    "language_info": {
      "name": "python"
    }
  },
  "cells": [
    {
      "cell_type": "code",
      "metadata": {
        "id": "K59MsHYBWro-"
      },
      "source": [
        "#Importing all necessary Libraries\n",
        "import pandas as pd\n",
        "import numpy as np\n",
        "import seaborn as sns\n",
        "import matplotlib.pyplot as plt"
      ],
      "execution_count": null,
      "outputs": []
    },
    {
      "cell_type": "markdown",
      "metadata": {
        "id": "GmVupG4S9-KV"
      },
      "source": [
        "**Reviews dataset:**\n",
        "\n",
        "\n",
        "Importing Reviews Dataset\n",
        "\n",
        "\n",
        "Source:Amazon"
      ]
    },
    {
      "cell_type": "code",
      "metadata": {
        "colab": {
          "base_uri": "https://localhost:8080/",
          "height": 554
        },
        "id": "D5DRfhEIngDY",
        "outputId": "f0d7a3be-47b3-43e3-f6df-0364e933b858"
      },
      "source": [
        "reviews = pd.read_json('/content/drive/MyDrive/Machine Learning/Kindle_Store_5.json', lines=True)\n",
        "reviews.sample(5)"
      ],
      "execution_count": null,
      "outputs": [
        {
          "output_type": "execute_result",
          "data": {
            "text/html": [
              "<div>\n",
              "<style scoped>\n",
              "    .dataframe tbody tr th:only-of-type {\n",
              "        vertical-align: middle;\n",
              "    }\n",
              "\n",
              "    .dataframe tbody tr th {\n",
              "        vertical-align: top;\n",
              "    }\n",
              "\n",
              "    .dataframe thead th {\n",
              "        text-align: right;\n",
              "    }\n",
              "</style>\n",
              "<table border=\"1\" class=\"dataframe\">\n",
              "  <thead>\n",
              "    <tr style=\"text-align: right;\">\n",
              "      <th></th>\n",
              "      <th>reviewerID</th>\n",
              "      <th>asin</th>\n",
              "      <th>reviewerName</th>\n",
              "      <th>helpful</th>\n",
              "      <th>reviewText</th>\n",
              "      <th>overall</th>\n",
              "      <th>summary</th>\n",
              "      <th>unixReviewTime</th>\n",
              "      <th>reviewTime</th>\n",
              "    </tr>\n",
              "  </thead>\n",
              "  <tbody>\n",
              "    <tr>\n",
              "      <th>218741</th>\n",
              "      <td>ALV0UIJEVXZ2G</td>\n",
              "      <td>B007YJEIAS</td>\n",
              "      <td>J. Savoy \"J. Savoy\"</td>\n",
              "      <td>[0, 0]</td>\n",
              "      <td>This is an okay book for the beginning writer ...</td>\n",
              "      <td>3</td>\n",
              "      <td>Okay for beginners</td>\n",
              "      <td>1349481600</td>\n",
              "      <td>10 6, 2012</td>\n",
              "    </tr>\n",
              "    <tr>\n",
              "      <th>402564</th>\n",
              "      <td>A2WEMLQUPGZDA2</td>\n",
              "      <td>B00AZ7YSFQ</td>\n",
              "      <td>Nicolas Wilson</td>\n",
              "      <td>[2, 2]</td>\n",
              "      <td>Review by Nic's wife.I was pleasantly surprise...</td>\n",
              "      <td>4</td>\n",
              "      <td>A few flaws, but a fun scifi.</td>\n",
              "      <td>1398643200</td>\n",
              "      <td>04 28, 2014</td>\n",
              "    </tr>\n",
              "    <tr>\n",
              "      <th>482</th>\n",
              "      <td>A1H1XHRSHFACTW</td>\n",
              "      <td>B000NJL7Y6</td>\n",
              "      <td>Tamila Robins</td>\n",
              "      <td>[0, 0]</td>\n",
              "      <td>I love anything that Brenda Jackson writes and...</td>\n",
              "      <td>5</td>\n",
              "      <td>Wonderful!!!!!!!!!!!!!</td>\n",
              "      <td>1363046400</td>\n",
              "      <td>03 12, 2013</td>\n",
              "    </tr>\n",
              "    <tr>\n",
              "      <th>283441</th>\n",
              "      <td>A24BM1FIA3LKUW</td>\n",
              "      <td>B008YQJEFY</td>\n",
              "      <td>nancy</td>\n",
              "      <td>[1, 1]</td>\n",
              "      <td>Interesting, yet bazaar.  It kept one on edge ...</td>\n",
              "      <td>4</td>\n",
              "      <td>The mystery box</td>\n",
              "      <td>1392249600</td>\n",
              "      <td>02 13, 2014</td>\n",
              "    </tr>\n",
              "    <tr>\n",
              "      <th>50879</th>\n",
              "      <td>A1M9J2GASVAASD</td>\n",
              "      <td>B004QGY35W</td>\n",
              "      <td>Stephy</td>\n",
              "      <td>[0, 0]</td>\n",
              "      <td>This book was great! I love the series and thi...</td>\n",
              "      <td>5</td>\n",
              "      <td>LOVE IT</td>\n",
              "      <td>1308700800</td>\n",
              "      <td>06 22, 2011</td>\n",
              "    </tr>\n",
              "  </tbody>\n",
              "</table>\n",
              "</div>"
            ],
            "text/plain": [
              "            reviewerID        asin  ... unixReviewTime   reviewTime\n",
              "218741   ALV0UIJEVXZ2G  B007YJEIAS  ...     1349481600   10 6, 2012\n",
              "402564  A2WEMLQUPGZDA2  B00AZ7YSFQ  ...     1398643200  04 28, 2014\n",
              "482     A1H1XHRSHFACTW  B000NJL7Y6  ...     1363046400  03 12, 2013\n",
              "283441  A24BM1FIA3LKUW  B008YQJEFY  ...     1392249600  02 13, 2014\n",
              "50879   A1M9J2GASVAASD  B004QGY35W  ...     1308700800  06 22, 2011\n",
              "\n",
              "[5 rows x 9 columns]"
            ]
          },
          "metadata": {},
          "execution_count": 93
        }
      ]
    },
    {
      "cell_type": "markdown",
      "metadata": {
        "id": "sVhIANUd-aiY"
      },
      "source": [
        "**Starting the Preprocessing**\n",
        "\n",
        "Finding the shape of the review data set:"
      ]
    },
    {
      "cell_type": "code",
      "metadata": {
        "colab": {
          "base_uri": "https://localhost:8080/"
        },
        "id": "tMwIYl9WqAAr",
        "outputId": "67c5a5b0-5c42-4e0f-ca8f-69b3385a744a"
      },
      "source": [
        "reviews.shape"
      ],
      "execution_count": null,
      "outputs": [
        {
          "output_type": "execute_result",
          "data": {
            "text/plain": [
              "(982619, 9)"
            ]
          },
          "metadata": {},
          "execution_count": 94
        }
      ]
    },
    {
      "cell_type": "markdown",
      "metadata": {
        "id": "58pNieuP-p5f"
      },
      "source": [
        ""
      ]
    },
    {
      "cell_type": "code",
      "metadata": {
        "colab": {
          "base_uri": "https://localhost:8080/"
        },
        "id": "pDqGarb2vv42",
        "outputId": "eb65605a-0cd7-40ae-c60b-e0cd2a3977d2"
      },
      "source": [
        "ratings = pd.DataFrame([reviews.reviewerID, reviews.asin, reviews.overall]).transpose()\n",
        "ratings.shape"
      ],
      "execution_count": null,
      "outputs": [
        {
          "output_type": "execute_result",
          "data": {
            "text/plain": [
              "(982619, 3)"
            ]
          },
          "metadata": {},
          "execution_count": 95
        }
      ]
    },
    {
      "cell_type": "markdown",
      "metadata": {
        "id": "lY2D2RuD-zk4"
      },
      "source": [
        "For better readability changing the 'reviewerID 'to' userID','asin' to 'productID','overall' to 'rating':\n",
        "\n",
        "---\n",
        "\n"
      ]
    },
    {
      "cell_type": "code",
      "metadata": {
        "id": "ERj_b2I3xlEC"
      },
      "source": [
        "ratings.rename(columns={\n",
        "    'reviewerID':'userID',\n",
        "    'asin':'productID',\n",
        "    'overall':'rating'\n",
        "}, inplace=True)"
      ],
      "execution_count": null,
      "outputs": []
    },
    {
      "cell_type": "code",
      "metadata": {
        "colab": {
          "base_uri": "https://localhost:8080/",
          "height": 205
        },
        "id": "yH6lrppwwJ7y",
        "outputId": "da7ad1aa-a62e-4561-9250-49ab63b791a3"
      },
      "source": [
        "ratings.head()"
      ],
      "execution_count": null,
      "outputs": [
        {
          "output_type": "execute_result",
          "data": {
            "text/html": [
              "<div>\n",
              "<style scoped>\n",
              "    .dataframe tbody tr th:only-of-type {\n",
              "        vertical-align: middle;\n",
              "    }\n",
              "\n",
              "    .dataframe tbody tr th {\n",
              "        vertical-align: top;\n",
              "    }\n",
              "\n",
              "    .dataframe thead th {\n",
              "        text-align: right;\n",
              "    }\n",
              "</style>\n",
              "<table border=\"1\" class=\"dataframe\">\n",
              "  <thead>\n",
              "    <tr style=\"text-align: right;\">\n",
              "      <th></th>\n",
              "      <th>userID</th>\n",
              "      <th>productID</th>\n",
              "      <th>rating</th>\n",
              "    </tr>\n",
              "  </thead>\n",
              "  <tbody>\n",
              "    <tr>\n",
              "      <th>0</th>\n",
              "      <td>A1F6404F1VG29J</td>\n",
              "      <td>B000F83SZQ</td>\n",
              "      <td>5</td>\n",
              "    </tr>\n",
              "    <tr>\n",
              "      <th>1</th>\n",
              "      <td>AN0N05A9LIJEQ</td>\n",
              "      <td>B000F83SZQ</td>\n",
              "      <td>4</td>\n",
              "    </tr>\n",
              "    <tr>\n",
              "      <th>2</th>\n",
              "      <td>A795DMNCJILA6</td>\n",
              "      <td>B000F83SZQ</td>\n",
              "      <td>4</td>\n",
              "    </tr>\n",
              "    <tr>\n",
              "      <th>3</th>\n",
              "      <td>A1FV0SX13TWVXQ</td>\n",
              "      <td>B000F83SZQ</td>\n",
              "      <td>5</td>\n",
              "    </tr>\n",
              "    <tr>\n",
              "      <th>4</th>\n",
              "      <td>A3SPTOKDG7WBLN</td>\n",
              "      <td>B000F83SZQ</td>\n",
              "      <td>4</td>\n",
              "    </tr>\n",
              "  </tbody>\n",
              "</table>\n",
              "</div>"
            ],
            "text/plain": [
              "           userID   productID rating\n",
              "0  A1F6404F1VG29J  B000F83SZQ      5\n",
              "1   AN0N05A9LIJEQ  B000F83SZQ      4\n",
              "2   A795DMNCJILA6  B000F83SZQ      4\n",
              "3  A1FV0SX13TWVXQ  B000F83SZQ      5\n",
              "4  A3SPTOKDG7WBLN  B000F83SZQ      4"
            ]
          },
          "metadata": {},
          "execution_count": 97
        }
      ]
    },
    {
      "cell_type": "markdown",
      "metadata": {
        "id": "PX07FipJ_ULf"
      },
      "source": [
        "Converting the object type of string format of rating to numeric format of rating "
      ]
    },
    {
      "cell_type": "code",
      "metadata": {
        "id": "znV8ouD-yubD"
      },
      "source": [
        "ratings['rating'] = pd.to_numeric(ratings['rating'])"
      ],
      "execution_count": null,
      "outputs": []
    },
    {
      "cell_type": "markdown",
      "metadata": {
        "id": "sWPahdbW_62D"
      },
      "source": [
        "Identifying the datatypes of each column of the ratings dataset"
      ]
    },
    {
      "cell_type": "code",
      "metadata": {
        "colab": {
          "base_uri": "https://localhost:8080/"
        },
        "id": "MOjGGHeVpak8",
        "outputId": "4104dc78-e289-473c-9e4e-afd0fddd515a"
      },
      "source": [
        "ratings.dtypes"
      ],
      "execution_count": null,
      "outputs": [
        {
          "output_type": "execute_result",
          "data": {
            "text/plain": [
              "userID       object\n",
              "productID    object\n",
              "rating        int64\n",
              "dtype: object"
            ]
          },
          "metadata": {},
          "execution_count": 99
        }
      ]
    },
    {
      "cell_type": "markdown",
      "metadata": {
        "id": "RvIjw4_UAHK2"
      },
      "source": [
        "Identifying the null data:\n",
        "\n",
        "As a conclusion we can see that there are no null values or nan values:"
      ]
    },
    {
      "cell_type": "code",
      "metadata": {
        "colab": {
          "base_uri": "https://localhost:8080/"
        },
        "id": "_5HtY2hEuFg1",
        "outputId": "eba4865e-bd39-4576-e0e5-11c280cca57b"
      },
      "source": [
        "ratings.isnull().sum()"
      ],
      "execution_count": null,
      "outputs": [
        {
          "output_type": "execute_result",
          "data": {
            "text/plain": [
              "userID       0\n",
              "productID    0\n",
              "rating       0\n",
              "dtype: int64"
            ]
          },
          "metadata": {},
          "execution_count": 100
        }
      ]
    },
    {
      "cell_type": "markdown",
      "metadata": {
        "id": "dl446tv5Aaoh"
      },
      "source": [
        "Satistical analysis of the ratings:\n",
        "\n",
        "From the below statistical analysis we can come to the conclusion that the rating scale range from 1 to 5.\n",
        "\n",
        "Total count of Customer ratings is 982619\n",
        "\n",
        "25% of the customer rating for the books are 4.\n",
        "\n",
        "70% and 50% of the customer ratings are 5."
      ]
    },
    {
      "cell_type": "code",
      "metadata": {
        "colab": {
          "base_uri": "https://localhost:8080/"
        },
        "id": "sE9JN3vF8vNY",
        "outputId": "6080df89-a8ce-464d-de4d-fe5fb828ace0"
      },
      "source": [
        "ratings.rating.describe()"
      ],
      "execution_count": null,
      "outputs": [
        {
          "output_type": "execute_result",
          "data": {
            "text/plain": [
              "count    982619.000000\n",
              "mean          4.347801\n",
              "std           0.955056\n",
              "min           1.000000\n",
              "25%           4.000000\n",
              "50%           5.000000\n",
              "75%           5.000000\n",
              "max           5.000000\n",
              "Name: rating, dtype: float64"
            ]
          },
          "metadata": {},
          "execution_count": 101
        }
      ]
    },
    {
      "cell_type": "code",
      "metadata": {
        "colab": {
          "base_uri": "https://localhost:8080/"
        },
        "id": "E46UNW9G9gsu",
        "outputId": "9773fed3-20d7-4eab-9c18-ca1cf8532008"
      },
      "source": [
        "print(\"No of Total ratings =\",ratings.shape[0])\n",
        "print(\"No of Unique users =\",len(ratings.userID.unique()))\n",
        "print(\"No of Unique products =\",len(ratings.productID.unique()))"
      ],
      "execution_count": null,
      "outputs": [
        {
          "output_type": "stream",
          "name": "stdout",
          "text": [
            "No of Total ratings = 982619\n",
            "No of Unique users = 68223\n",
            "No of Unique products = 61934\n"
          ]
        }
      ]
    },
    {
      "cell_type": "markdown",
      "metadata": {
        "id": "KH9qdQA0BuWG"
      },
      "source": [
        "Exploratary Data Analysis of the data:\n",
        "\n",
        "By plotting the ratings in a scale of 1 to 5 against the customers "
      ]
    },
    {
      "cell_type": "code",
      "metadata": {
        "colab": {
          "base_uri": "https://localhost:8080/",
          "height": 300
        },
        "id": "33eUTxyN-d1K",
        "outputId": "99a974b6-dc51-443b-839b-546af921f0fa"
      },
      "source": [
        "sns.countplot(x='rating', data=ratings)"
      ],
      "execution_count": null,
      "outputs": [
        {
          "output_type": "execute_result",
          "data": {
            "text/plain": [
              "<matplotlib.axes._subplots.AxesSubplot at 0x7f19505b1b90>"
            ]
          },
          "metadata": {},
          "execution_count": 103
        },
        {
          "output_type": "display_data",
          "data": {
            "image/png": "[encoded data removed]",
            "text/plain": [
              "<Figure size 432x288 with 1 Axes>"
            ]
          },
          "metadata": {
            "needs_background": "light"
          }
        }
      ]
    },
    {
      "cell_type": "markdown",
      "metadata": {
        "id": "VOYh4I70CBWV"
      },
      "source": [
        "Grouping the productID with that of the ratings to check through which product id has more rating:"
      ]
    },
    {
      "cell_type": "code",
      "metadata": {
        "colab": {
          "base_uri": "https://localhost:8080/"
        },
        "id": "xww9Y_H-uhte",
        "outputId": "1c7e9cc1-0a94-4d87-fe2c-149f35710996"
      },
      "source": [
        "ratings.groupby('productID')['rating'].mean().sort_values(ascending=False).sample(10)"
      ],
      "execution_count": null,
      "outputs": [
        {
          "output_type": "execute_result",
          "data": {
            "text/plain": [
              "productID\n",
              "B005CRQ5AK    4.352941\n",
              "B008VGBQTO    4.157895\n",
              "B00GDR4X0W    5.000000\n",
              "B00CC9DKUY    4.769231\n",
              "B00I8CV9PC    4.103448\n",
              "B00IHSI2WA    3.807692\n",
              "B00F0OUL6O    3.937500\n",
              "B002NOGFHS    3.600000\n",
              "B00BRY7ZR4    4.421053\n",
              "B00AGR5ZPW    4.666667\n",
              "Name: rating, dtype: float64"
            ]
          },
          "metadata": {},
          "execution_count": 104
        }
      ]
    },
    {
      "cell_type": "markdown",
      "metadata": {
        "id": "tIFbzH4VCcEs"
      },
      "source": [
        "Checking through userids and their corresponding rating and grouping them and sorting them according to the highest ratings"
      ]
    },
    {
      "cell_type": "code",
      "metadata": {
        "colab": {
          "base_uri": "https://localhost:8080/"
        },
        "id": "e7EfVVY1FNb6",
        "outputId": "cda15467-5788-453d-ca40-ae364e32c2d2"
      },
      "source": [
        "# Active users\n",
        "ratings.groupby('userID')['rating'].count().sort_values(ascending=False)"
      ],
      "execution_count": null,
      "outputs": [
        {
          "output_type": "execute_result",
          "data": {
            "text/plain": [
              "userID\n",
              "A13QTZ8CIMHHG4    1173\n",
              "A2WZJDFX12QXKD    1007\n",
              "A320TMDV6KCFU      847\n",
              "A3PTWPKPXOG8Y5     789\n",
              "A1JLU5H1CCENWX     782\n",
              "                  ... \n",
              "A2XQNMBRFLH539       5\n",
              "A2XQNY6FNZ8XYL       5\n",
              "A2XQT4HFUM5K13       5\n",
              "A2XREU38W4XMI4       5\n",
              "A2JYBNXB2UFSO0       5\n",
              "Name: rating, Length: 68223, dtype: int64"
            ]
          },
          "metadata": {},
          "execution_count": 105
        }
      ]
    },
    {
      "cell_type": "markdown",
      "metadata": {
        "id": "IYgEhJUbCwEd"
      },
      "source": [
        "Popular products:\n",
        "\n",
        "finding the popular products by grouping the prouductID and rating and then sorting them and have displayed as a bar plot:"
      ]
    },
    {
      "cell_type": "code",
      "metadata": {
        "colab": {
          "base_uri": "https://localhost:8080/",
          "height": 361
        },
        "id": "ymqWW0TeFhu-",
        "outputId": "ba654173-89b6-4076-fe6b-9405672b322e"
      },
      "source": [
        "popular20 = pd.DataFrame(ratings.groupby('productID')['rating'].count().sort_values(ascending=False).head(20))\n",
        "popular20.plot(kind='bar')"
      ],
      "execution_count": null,
      "outputs": [
        {
          "output_type": "execute_result",
          "data": {
            "text/plain": [
              "<matplotlib.axes._subplots.AxesSubplot at 0x7f1950056bd0>"
            ]
          },
          "metadata": {},
          "execution_count": 106
        },
        {
          "output_type": "display_data",
          "data": {
            "image/png": "[encoded data removed]",
            "text/plain": [
              "<Figure size 432x288 with 1 Axes>"
            ]
          },
          "metadata": {
            "needs_background": "light"
          }
        }
      ]
    },
    {
      "cell_type": "markdown",
      "metadata": {
        "id": "umskBcefDomW"
      },
      "source": [
        "Popular 20 products:"
      ]
    },
    {
      "cell_type": "code",
      "metadata": {
        "colab": {
          "base_uri": "https://localhost:8080/",
          "height": 705
        },
        "id": "uCdiXWZCGPbJ",
        "outputId": "22438d01-8857-4089-ebfc-ff2fd9739e9c"
      },
      "source": [
        "popular20"
      ],
      "execution_count": null,
      "outputs": [
        {
          "output_type": "execute_result",
          "data": {
            "text/html": [
              "<div>\n",
              "<style scoped>\n",
              "    .dataframe tbody tr th:only-of-type {\n",
              "        vertical-align: middle;\n",
              "    }\n",
              "\n",
              "    .dataframe tbody tr th {\n",
              "        vertical-align: top;\n",
              "    }\n",
              "\n",
              "    .dataframe thead th {\n",
              "        text-align: right;\n",
              "    }\n",
              "</style>\n",
              "<table border=\"1\" class=\"dataframe\">\n",
              "  <thead>\n",
              "    <tr style=\"text-align: right;\">\n",
              "      <th></th>\n",
              "      <th>rating</th>\n",
              "    </tr>\n",
              "    <tr>\n",
              "      <th>productID</th>\n",
              "      <th></th>\n",
              "    </tr>\n",
              "  </thead>\n",
              "  <tbody>\n",
              "    <tr>\n",
              "      <th>B006GWO5WK</th>\n",
              "      <td>1113</td>\n",
              "    </tr>\n",
              "    <tr>\n",
              "      <th>B00BTIDW4S</th>\n",
              "      <td>781</td>\n",
              "    </tr>\n",
              "    <tr>\n",
              "      <th>B00BT0J8ZS</th>\n",
              "      <td>516</td>\n",
              "    </tr>\n",
              "    <tr>\n",
              "      <th>B00JDYC5OI</th>\n",
              "      <td>502</td>\n",
              "    </tr>\n",
              "    <tr>\n",
              "      <th>B00H0V069M</th>\n",
              "      <td>481</td>\n",
              "    </tr>\n",
              "    <tr>\n",
              "      <th>B00BTIDXVU</th>\n",
              "      <td>454</td>\n",
              "    </tr>\n",
              "    <tr>\n",
              "      <th>B00BSX4U04</th>\n",
              "      <td>452</td>\n",
              "    </tr>\n",
              "    <tr>\n",
              "      <th>B00BTIDOO6</th>\n",
              "      <td>428</td>\n",
              "    </tr>\n",
              "    <tr>\n",
              "      <th>B007R5YDYA</th>\n",
              "      <td>422</td>\n",
              "    </tr>\n",
              "    <tr>\n",
              "      <th>B005DOK8NW</th>\n",
              "      <td>408</td>\n",
              "    </tr>\n",
              "    <tr>\n",
              "      <th>B005ME39HU</th>\n",
              "      <td>394</td>\n",
              "    </tr>\n",
              "    <tr>\n",
              "      <th>B005C5YZ86</th>\n",
              "      <td>394</td>\n",
              "    </tr>\n",
              "    <tr>\n",
              "      <th>B00CCRTFSC</th>\n",
              "      <td>390</td>\n",
              "    </tr>\n",
              "    <tr>\n",
              "      <th>B00HYQJPC2</th>\n",
              "      <td>364</td>\n",
              "    </tr>\n",
              "    <tr>\n",
              "      <th>B00KF0URBM</th>\n",
              "      <td>354</td>\n",
              "    </tr>\n",
              "    <tr>\n",
              "      <th>B004E10W0E</th>\n",
              "      <td>341</td>\n",
              "    </tr>\n",
              "    <tr>\n",
              "      <th>B008IL48BK</th>\n",
              "      <td>337</td>\n",
              "    </tr>\n",
              "    <tr>\n",
              "      <th>B00DJB6KE2</th>\n",
              "      <td>334</td>\n",
              "    </tr>\n",
              "    <tr>\n",
              "      <th>B00EYMXM2I</th>\n",
              "      <td>330</td>\n",
              "    </tr>\n",
              "    <tr>\n",
              "      <th>B00J1SP9FI</th>\n",
              "      <td>324</td>\n",
              "    </tr>\n",
              "  </tbody>\n",
              "</table>\n",
              "</div>"
            ],
            "text/plain": [
              "            rating\n",
              "productID         \n",
              "B006GWO5WK    1113\n",
              "B00BTIDW4S     781\n",
              "B00BT0J8ZS     516\n",
              "B00JDYC5OI     502\n",
              "B00H0V069M     481\n",
              "B00BTIDXVU     454\n",
              "B00BSX4U04     452\n",
              "B00BTIDOO6     428\n",
              "B007R5YDYA     422\n",
              "B005DOK8NW     408\n",
              "B005ME39HU     394\n",
              "B005C5YZ86     394\n",
              "B00CCRTFSC     390\n",
              "B00HYQJPC2     364\n",
              "B00KF0URBM     354\n",
              "B004E10W0E     341\n",
              "B008IL48BK     337\n",
              "B00DJB6KE2     334\n",
              "B00EYMXM2I     330\n",
              "B00J1SP9FI     324"
            ]
          },
          "metadata": {},
          "execution_count": 107
        }
      ]
    },
    {
      "cell_type": "markdown",
      "metadata": {
        "id": "kx_hz5crDtdp"
      },
      "source": [
        "Removing unnessary columns:\n",
        "\n",
        "1.reviewerName-we have removed this name because it doesnt help us to identify the best sold book which is our ultimate aim\n",
        "\n",
        "2.helpful-\n",
        "\n",
        "3.overall-\n",
        "\n",
        "4.unixReviewTime-\n",
        "\n",
        "5.reviewTime-\n"
      ]
    },
    {
      "cell_type": "code",
      "metadata": {
        "colab": {
          "base_uri": "https://localhost:8080/",
          "height": 456
        },
        "id": "OpSEkhPQzz0z",
        "outputId": "7e31e650-104f-4ce1-e34a-d0703ec86aad"
      },
      "source": [
        "reviews.drop(columns=['reviewerName','helpful','overall','unixReviewTime','reviewTime'], inplace=True)\n",
        "reviews"
      ],
      "execution_count": null,
      "outputs": [
        {
          "output_type": "execute_result",
          "data": {
            "text/html": [
              "<div>\n",
              "<style scoped>\n",
              "    .dataframe tbody tr th:only-of-type {\n",
              "        vertical-align: middle;\n",
              "    }\n",
              "\n",
              "    .dataframe tbody tr th {\n",
              "        vertical-align: top;\n",
              "    }\n",
              "\n",
              "    .dataframe thead th {\n",
              "        text-align: right;\n",
              "    }\n",
              "</style>\n",
              "<table border=\"1\" class=\"dataframe\">\n",
              "  <thead>\n",
              "    <tr style=\"text-align: right;\">\n",
              "      <th></th>\n",
              "      <th>reviewerID</th>\n",
              "      <th>asin</th>\n",
              "      <th>reviewText</th>\n",
              "      <th>summary</th>\n",
              "    </tr>\n",
              "  </thead>\n",
              "  <tbody>\n",
              "    <tr>\n",
              "      <th>0</th>\n",
              "      <td>A1F6404F1VG29J</td>\n",
              "      <td>B000F83SZQ</td>\n",
              "      <td>I enjoy vintage books and movies so I enjoyed ...</td>\n",
              "      <td>Nice vintage story</td>\n",
              "    </tr>\n",
              "    <tr>\n",
              "      <th>1</th>\n",
              "      <td>AN0N05A9LIJEQ</td>\n",
              "      <td>B000F83SZQ</td>\n",
              "      <td>This book is a reissue of an old one; the auth...</td>\n",
              "      <td>Different...</td>\n",
              "    </tr>\n",
              "    <tr>\n",
              "      <th>2</th>\n",
              "      <td>A795DMNCJILA6</td>\n",
              "      <td>B000F83SZQ</td>\n",
              "      <td>This was a fairly interesting read.  It had ol...</td>\n",
              "      <td>Oldie</td>\n",
              "    </tr>\n",
              "    <tr>\n",
              "      <th>3</th>\n",
              "      <td>A1FV0SX13TWVXQ</td>\n",
              "      <td>B000F83SZQ</td>\n",
              "      <td>I'd never read any of the Amy Brewster mysteri...</td>\n",
              "      <td>I really liked it.</td>\n",
              "    </tr>\n",
              "    <tr>\n",
              "      <th>4</th>\n",
              "      <td>A3SPTOKDG7WBLN</td>\n",
              "      <td>B000F83SZQ</td>\n",
              "      <td>If you like period pieces - clothing, lingo, y...</td>\n",
              "      <td>Period Mystery</td>\n",
              "    </tr>\n",
              "    <tr>\n",
              "      <th>...</th>\n",
              "      <td>...</td>\n",
              "      <td>...</td>\n",
              "      <td>...</td>\n",
              "      <td>...</td>\n",
              "    </tr>\n",
              "    <tr>\n",
              "      <th>982614</th>\n",
              "      <td>A2Y66HD4J5S7QZ</td>\n",
              "      <td>B00M13FNSS</td>\n",
              "      <td>Yasss hunny! This is a great read. That Dre is...</td>\n",
              "      <td>A Hot Read Indeed!!</td>\n",
              "    </tr>\n",
              "    <tr>\n",
              "      <th>982615</th>\n",
              "      <td>A17YHECC8H9NEY</td>\n",
              "      <td>B00M13FNSS</td>\n",
              "      <td>I ENJOYED THIS BOOK FROM BEGINNING TO END NOW ...</td>\n",
              "      <td>VERY GOOD BOOK</td>\n",
              "    </tr>\n",
              "    <tr>\n",
              "      <th>982616</th>\n",
              "      <td>A20KO0BPMNREJL</td>\n",
              "      <td>B00M13FNSS</td>\n",
              "      <td>Great book! Cherika was a fool. She let that m...</td>\n",
              "      <td>Great Read</td>\n",
              "    </tr>\n",
              "    <tr>\n",
              "      <th>982617</th>\n",
              "      <td>A1BQO66R6OLCCW</td>\n",
              "      <td>B00M13FNSS</td>\n",
              "      <td>When I say this was an excellent book please b...</td>\n",
              "      <td>Wow!!</td>\n",
              "    </tr>\n",
              "    <tr>\n",
              "      <th>982618</th>\n",
              "      <td>A2NRGE3CSFY2TQ</td>\n",
              "      <td>B00M13FNSS</td>\n",
              "      <td>This book was everything. I just hope Alexus w...</td>\n",
              "      <td>Great read.hands down #5star hit</td>\n",
              "    </tr>\n",
              "  </tbody>\n",
              "</table>\n",
              "<p>982619 rows × 4 columns</p>\n",
              "</div>"
            ],
            "text/plain": [
              "            reviewerID  ...                           summary\n",
              "0       A1F6404F1VG29J  ...                Nice vintage story\n",
              "1        AN0N05A9LIJEQ  ...                      Different...\n",
              "2        A795DMNCJILA6  ...                             Oldie\n",
              "3       A1FV0SX13TWVXQ  ...                I really liked it.\n",
              "4       A3SPTOKDG7WBLN  ...                    Period Mystery\n",
              "...                ...  ...                               ...\n",
              "982614  A2Y66HD4J5S7QZ  ...               A Hot Read Indeed!!\n",
              "982615  A17YHECC8H9NEY  ...                    VERY GOOD BOOK\n",
              "982616  A20KO0BPMNREJL  ...                        Great Read\n",
              "982617  A1BQO66R6OLCCW  ...                             Wow!!\n",
              "982618  A2NRGE3CSFY2TQ  ...  Great read.hands down #5star hit\n",
              "\n",
              "[982619 rows x 4 columns]"
            ]
          },
          "metadata": {},
          "execution_count": 108
        }
      ]
    },
    {
      "cell_type": "markdown",
      "metadata": {
        "id": "8uixtK4vFN0g"
      },
      "source": [
        "Finding if there is any duplicate value:"
      ]
    },
    {
      "cell_type": "code",
      "metadata": {
        "colab": {
          "base_uri": "https://localhost:8080/"
        },
        "id": "7IO8dOxg1hIS",
        "outputId": "6f3c1626-babf-4efa-85aa-b0d2a38c0da1"
      },
      "source": [
        "reviews.duplicated().sum()"
      ],
      "execution_count": null,
      "outputs": [
        {
          "output_type": "execute_result",
          "data": {
            "text/plain": [
              "0"
            ]
          },
          "metadata": {},
          "execution_count": 109
        }
      ]
    },
    {
      "cell_type": "markdown",
      "metadata": {
        "id": "W3BGsbppFV00"
      },
      "source": [
        "Meta Data whihc is the supplementary data which adds on information of the particular book including title,caategory and so on."
      ]
    },
    {
      "cell_type": "code",
      "metadata": {
        "colab": {
          "base_uri": "https://localhost:8080/",
          "height": 474
        },
        "id": "HPQNbk5cHXKi",
        "outputId": "175bc266-f74c-46c1-9fc8-8835d9a2baee"
      },
      "source": [
        "meta_data = pd.read_json('/content/drive/MyDrive/Machine Learning/meta_Kindle_Store.json',lines=True)\n",
        "meta_data.sample(3)"
      ],
      "execution_count": null,
      "outputs": [
        {
          "output_type": "execute_result",
          "data": {
            "text/html": [
              "<div>\n",
              "<style scoped>\n",
              "    .dataframe tbody tr th:only-of-type {\n",
              "        vertical-align: middle;\n",
              "    }\n",
              "\n",
              "    .dataframe tbody tr th {\n",
              "        vertical-align: top;\n",
              "    }\n",
              "\n",
              "    .dataframe thead th {\n",
              "        text-align: right;\n",
              "    }\n",
              "</style>\n",
              "<table border=\"1\" class=\"dataframe\">\n",
              "  <thead>\n",
              "    <tr style=\"text-align: right;\">\n",
              "      <th></th>\n",
              "      <th>category</th>\n",
              "      <th>tech1</th>\n",
              "      <th>description</th>\n",
              "      <th>fit</th>\n",
              "      <th>title</th>\n",
              "      <th>also_buy</th>\n",
              "      <th>tech2</th>\n",
              "      <th>brand</th>\n",
              "      <th>feature</th>\n",
              "      <th>rank</th>\n",
              "      <th>also_view</th>\n",
              "      <th>details</th>\n",
              "      <th>main_cat</th>\n",
              "      <th>similar_item</th>\n",
              "      <th>date</th>\n",
              "      <th>price</th>\n",
              "      <th>asin</th>\n",
              "      <th>imageURL</th>\n",
              "      <th>imageURLHighRes</th>\n",
              "    </tr>\n",
              "  </thead>\n",
              "  <tbody>\n",
              "    <tr>\n",
              "      <th>349861</th>\n",
              "      <td>[Kindle Store, Kindle eBooks, Religion &amp; Spiri...</td>\n",
              "      <td></td>\n",
              "      <td>[]</td>\n",
              "      <td></td>\n",
              "      <td>A Fun Way to Connect With Bible Stories (Creat...</td>\n",
              "      <td>[]</td>\n",
              "      <td></td>\n",
              "      <td>Visit Amazon's EK Jasmine Page</td>\n",
              "      <td>[]</td>\n",
              "      <td>4,091,929 Paid in Kindle Store (</td>\n",
              "      <td>[]</td>\n",
              "      <td>{'File Size:': '16723 KB', 'Print Length:': '2...</td>\n",
              "      <td>Buy a Kindle</td>\n",
              "      <td></td>\n",
              "      <td>NaT</td>\n",
              "      <td></td>\n",
              "      <td>B00TJOX8K2</td>\n",
              "      <td>[]</td>\n",
              "      <td>[]</td>\n",
              "    </tr>\n",
              "    <tr>\n",
              "      <th>11649</th>\n",
              "      <td>[Kindle Store, Kindle eBooks, Education &amp; Teac...</td>\n",
              "      <td></td>\n",
              "      <td>[]</td>\n",
              "      <td></td>\n",
              "      <td>Essential Math Made Simple (Basic Math Skills...</td>\n",
              "      <td>[]</td>\n",
              "      <td></td>\n",
              "      <td>Orsolina Cetta</td>\n",
              "      <td>[]</td>\n",
              "      <td>2,332,492 Paid in Kindle Store (</td>\n",
              "      <td>[]</td>\n",
              "      <td>{'File Size:': '3510 KB', 'Print Length:': '72...</td>\n",
              "      <td>Buy a Kindle</td>\n",
              "      <td></td>\n",
              "      <td>NaT</td>\n",
              "      <td></td>\n",
              "      <td>B003URRQW0</td>\n",
              "      <td>[]</td>\n",
              "      <td>[]</td>\n",
              "    </tr>\n",
              "    <tr>\n",
              "      <th>287480</th>\n",
              "      <td>[Kindle Store, Kindle eBooks, Religion &amp; Spiri...</td>\n",
              "      <td></td>\n",
              "      <td>[]</td>\n",
              "      <td></td>\n",
              "      <td>Faith Walk - Kindle edition</td>\n",
              "      <td>[]</td>\n",
              "      <td></td>\n",
              "      <td>Faith Walker Marshall</td>\n",
              "      <td>[]</td>\n",
              "      <td>4,155,799 Paid in Kindle Store (</td>\n",
              "      <td>[]</td>\n",
              "      <td>{'File Size:': '501 KB', 'Print Length:': '120...</td>\n",
              "      <td>Buy a Kindle</td>\n",
              "      <td></td>\n",
              "      <td>NaT</td>\n",
              "      <td></td>\n",
              "      <td>B00M4984US</td>\n",
              "      <td>[]</td>\n",
              "      <td>[]</td>\n",
              "    </tr>\n",
              "  </tbody>\n",
              "</table>\n",
              "</div>"
            ],
            "text/plain": [
              "                                                 category  ... imageURLHighRes\n",
              "349861  [Kindle Store, Kindle eBooks, Religion & Spiri...  ...              []\n",
              "11649   [Kindle Store, Kindle eBooks, Education & Teac...  ...              []\n",
              "287480  [Kindle Store, Kindle eBooks, Religion & Spiri...  ...              []\n",
              "\n",
              "[3 rows x 19 columns]"
            ]
          },
          "metadata": {},
          "execution_count": 110
        }
      ]
    },
    {
      "cell_type": "code",
      "metadata": {
        "colab": {
          "base_uri": "https://localhost:8080/"
        },
        "id": "IjwwurBs2fNR",
        "outputId": "e589d9c3-855f-4f76-fd21-65476a80de5c"
      },
      "source": [
        "meta_data.dtypes"
      ],
      "execution_count": null,
      "outputs": [
        {
          "output_type": "execute_result",
          "data": {
            "text/plain": [
              "category                   object\n",
              "tech1                      object\n",
              "description                object\n",
              "fit                        object\n",
              "title                      object\n",
              "also_buy                   object\n",
              "tech2                      object\n",
              "brand                      object\n",
              "feature                    object\n",
              "rank                       object\n",
              "also_view                  object\n",
              "details                    object\n",
              "main_cat                   object\n",
              "similar_item               object\n",
              "date               datetime64[ns]\n",
              "price                      object\n",
              "asin                       object\n",
              "imageURL                   object\n",
              "imageURLHighRes            object\n",
              "dtype: object"
            ]
          },
          "metadata": {},
          "execution_count": 111
        }
      ]
    },
    {
      "cell_type": "markdown",
      "metadata": {
        "id": "1RA-Qp3sFlmk"
      },
      "source": [
        "Replacing empty spaces value with nan value\n",
        "\n",
        "Setting feature,description,imageurl and imageurlhighresolution as bool types to easily delete them."
      ]
    },
    {
      "cell_type": "code",
      "metadata": {
        "id": "_D4LkWmPz8vA"
      },
      "source": [
        "meta_data.replace(\"\",np.nan,inplace=True)\n",
        "meta_data['description'] = meta_data['description'].astype(bool)\n",
        "meta_data['feature'] = meta_data['feature'].astype(bool)\n",
        "meta_data['imageURL'] = meta_data['imageURL'].astype(bool)\n",
        "meta_data['imageURLHighRes'] = meta_data['imageURLHighRes'].astype(bool)\n",
        "meta_data.replace(False,np.nan,inplace=True)"
      ],
      "execution_count": null,
      "outputs": []
    },
    {
      "cell_type": "code",
      "metadata": {
        "colab": {
          "base_uri": "https://localhost:8080/"
        },
        "id": "BZKwsWNPz2Ng",
        "outputId": "62e7b2b3-44fc-4e5c-f4b8-02dd3900aa10"
      },
      "source": [
        "meta_data.isnull().sum()"
      ],
      "execution_count": null,
      "outputs": [
        {
          "output_type": "execute_result",
          "data": {
            "text/plain": [
              "category                0\n",
              "tech1              491670\n",
              "description        491670\n",
              "fit                491670\n",
              "title                2760\n",
              "also_buy                0\n",
              "tech2              491670\n",
              "brand                1524\n",
              "feature            491670\n",
              "rank                    0\n",
              "also_view               0\n",
              "details                 0\n",
              "main_cat               41\n",
              "similar_item       491670\n",
              "date               491670\n",
              "price              491591\n",
              "asin                    0\n",
              "imageURL           491652\n",
              "imageURLHighRes    491652\n",
              "dtype: int64"
            ]
          },
          "metadata": {},
          "execution_count": 113
        }
      ]
    },
    {
      "cell_type": "code",
      "metadata": {
        "colab": {
          "base_uri": "https://localhost:8080/"
        },
        "id": "aDkWnNodxupw",
        "outputId": "39b886dd-6db0-43fc-a80b-753571efef42"
      },
      "source": [
        "meta_data.columns"
      ],
      "execution_count": null,
      "outputs": [
        {
          "output_type": "execute_result",
          "data": {
            "text/plain": [
              "Index(['category', 'tech1', 'description', 'fit', 'title', 'also_buy', 'tech2',\n",
              "       'brand', 'feature', 'rank', 'also_view', 'details', 'main_cat',\n",
              "       'similar_item', 'date', 'price', 'asin', 'imageURL', 'imageURLHighRes'],\n",
              "      dtype='object')"
            ]
          },
          "metadata": {},
          "execution_count": 114
        }
      ]
    },
    {
      "cell_type": "markdown",
      "metadata": {
        "id": "rUXFQEuWGHxV"
      },
      "source": [
        "Since we have same number of rows in null value and the actual columns \n",
        "\n",
        "We have planned to remove the following columns:\n",
        "'description','tech1','fit','tech2','feature','similar_item','date','price','imageURL','imageURLHighRes'"
      ]
    },
    {
      "cell_type": "code",
      "metadata": {
        "colab": {
          "base_uri": "https://localhost:8080/",
          "height": 1000
        },
        "id": "vmqEinDatFwm",
        "outputId": "237e38c2-c813-4e30-beb2-c934a6a5b5b3"
      },
      "source": [
        "meta_data.drop(columns=['description','tech1','fit','tech2','feature','similar_item','date','price','imageURL','imageURLHighRes'],inplace=True)\n",
        "meta_data"
      ],
      "execution_count": null,
      "outputs": [
        {
          "output_type": "execute_result",
          "data": {
            "text/html": [
              "<div>\n",
              "<style scoped>\n",
              "    .dataframe tbody tr th:only-of-type {\n",
              "        vertical-align: middle;\n",
              "    }\n",
              "\n",
              "    .dataframe tbody tr th {\n",
              "        vertical-align: top;\n",
              "    }\n",
              "\n",
              "    .dataframe thead th {\n",
              "        text-align: right;\n",
              "    }\n",
              "</style>\n",
              "<table border=\"1\" class=\"dataframe\">\n",
              "  <thead>\n",
              "    <tr style=\"text-align: right;\">\n",
              "      <th></th>\n",
              "      <th>category</th>\n",
              "      <th>title</th>\n",
              "      <th>also_buy</th>\n",
              "      <th>brand</th>\n",
              "      <th>rank</th>\n",
              "      <th>also_view</th>\n",
              "      <th>details</th>\n",
              "      <th>main_cat</th>\n",
              "      <th>asin</th>\n",
              "    </tr>\n",
              "  </thead>\n",
              "  <tbody>\n",
              "    <tr>\n",
              "      <th>0</th>\n",
              "      <td>[Kindle Store, Kindle eBooks, Science Fiction ...</td>\n",
              "      <td>NaN</td>\n",
              "      <td>[B007NLCJBC, B01FARODH8]</td>\n",
              "      <td>Arthur K. Barnes</td>\n",
              "      <td>1,716,849 Paid in Kindle Store (</td>\n",
              "      <td>[B000FBF81K, B00PBDMER8]</td>\n",
              "      <td>{'File Size:': '295 KB', 'Print Length:': '113...</td>\n",
              "      <td>Buy a Kindle</td>\n",
              "      <td>B000FA5KKA</td>\n",
              "    </tr>\n",
              "    <tr>\n",
              "      <th>1</th>\n",
              "      <td>[Kindle Store, Kindle eBooks, Engineering &amp; Tr...</td>\n",
              "      <td>NaN</td>\n",
              "      <td>[B00AYWTHZS, B071CTK28D]</td>\n",
              "      <td>Visit Amazon's Paul A. Craig Page</td>\n",
              "      <td>1,683,973 Paid in Kindle Store (</td>\n",
              "      <td>[B00AYWTHZS]</td>\n",
              "      <td>{'File Size:': '1648 KB', 'Print Length:': '26...</td>\n",
              "      <td>Buy a Kindle</td>\n",
              "      <td>B000FA5M3K</td>\n",
              "    </tr>\n",
              "    <tr>\n",
              "      <th>2</th>\n",
              "      <td>[Kindle Store, Kindle eBooks, Biographies &amp; Me...</td>\n",
              "      <td>NaN</td>\n",
              "      <td>[]</td>\n",
              "      <td>Jean Marie Stine</td>\n",
              "      <td>3,394,136 Paid in Kindle Store (</td>\n",
              "      <td>[]</td>\n",
              "      <td>{'File Size:': '262 KB', 'Print Length:': '103...</td>\n",
              "      <td>Buy a Kindle</td>\n",
              "      <td>B000FA5KJQ</td>\n",
              "    </tr>\n",
              "    <tr>\n",
              "      <th>3</th>\n",
              "      <td>[Kindle Store, Kindle eBooks, Science Fiction ...</td>\n",
              "      <td>NaN</td>\n",
              "      <td>[]</td>\n",
              "      <td>Arthur K. Barnes</td>\n",
              "      <td>1,884,541 Paid in Kindle Store (</td>\n",
              "      <td>[]</td>\n",
              "      <td>{'File Size:': '251 KB', 'Print Length:': '116...</td>\n",
              "      <td>Buy a Kindle</td>\n",
              "      <td>B000FA5NSO</td>\n",
              "    </tr>\n",
              "    <tr>\n",
              "      <th>4</th>\n",
              "      <td>[Kindle Store, Kindle eBooks, Business &amp; Money]</td>\n",
              "      <td>NaN</td>\n",
              "      <td>[B000SEGKF2, B004774LR0, B018LE1KUK, B0015DRO7...</td>\n",
              "      <td>Visit Amazon's Ethan M. Rasiel Page</td>\n",
              "      <td>72,075 Paid in Kindle Store (</td>\n",
              "      <td>[B018LE1KUK, B000SEGKF2, B007XWFZSA, B0015DRO7...</td>\n",
              "      <td>{'File Size:': '953 KB', 'Print Length:': '187...</td>\n",
              "      <td>Buy a Kindle</td>\n",
              "      <td>B000FA5KX2</td>\n",
              "    </tr>\n",
              "    <tr>\n",
              "      <th>...</th>\n",
              "      <td>...</td>\n",
              "      <td>...</td>\n",
              "      <td>...</td>\n",
              "      <td>...</td>\n",
              "      <td>...</td>\n",
              "      <td>...</td>\n",
              "      <td>...</td>\n",
              "      <td>...</td>\n",
              "      <td>...</td>\n",
              "    </tr>\n",
              "    <tr>\n",
              "      <th>491665</th>\n",
              "      <td>[Kindle Store, Kindle eBooks, Science Fiction ...</td>\n",
              "      <td>Den of Dark Angels eBook</td>\n",
              "      <td>[]</td>\n",
              "      <td>Visit Amazon's Kenna McKinnon Page</td>\n",
              "      <td>8,671 Free in Kindle Store (</td>\n",
              "      <td>[B07LB2LY17, B07DMZJ29M, B00O3GTJEU, B077XG66X...</td>\n",
              "      <td>{'File Size:': '1918 KB', 'Print Length:': '30...</td>\n",
              "      <td>Buy a Kindle</td>\n",
              "      <td>B01HJDS9W6</td>\n",
              "    </tr>\n",
              "    <tr>\n",
              "      <th>491666</th>\n",
              "      <td>[Kindle Store, Kindle eBooks, Literature &amp; Fic...</td>\n",
              "      <td>Poison Kisses 2: My Best Kept Secret - Kindle ...</td>\n",
              "      <td>[B01F1X1630, B07C7G3YFN, B07CYV92TH]</td>\n",
              "      <td>Visit Amazon's Kia Meche' Page</td>\n",
              "      <td>743,760 Paid in Kindle Store (</td>\n",
              "      <td>[B01F1X1630]</td>\n",
              "      <td>{'File Size:': '3159 KB', 'Print Length:': '15...</td>\n",
              "      <td>Buy a Kindle</td>\n",
              "      <td>B01HJENY3Y</td>\n",
              "    </tr>\n",
              "    <tr>\n",
              "      <th>491667</th>\n",
              "      <td>[Kindle Store, Kindle eBooks, Religion &amp; Spiri...</td>\n",
              "      <td>Renewing Your Mind!: Secrets to Having All You...</td>\n",
              "      <td>[B06VVS5NTN, B01BWYW7DK, B01K7T52JM, B079DTMZR...</td>\n",
              "      <td>Visit Amazon's MICHAEL ENDWELL Page</td>\n",
              "      <td>573,570 Paid in Kindle Store (</td>\n",
              "      <td>[B06VVS5NTN, B01K9D9EKE, B07HRLXB59, B071HBRKN...</td>\n",
              "      <td>{'File Size:': '658 KB', 'Print Length:': '37 ...</td>\n",
              "      <td>Buy a Kindle</td>\n",
              "      <td>B01HJFVTKS</td>\n",
              "    </tr>\n",
              "    <tr>\n",
              "      <th>491668</th>\n",
              "      <td>[Kindle Store, Kindle eBooks, Literature &amp; Fic...</td>\n",
              "      <td>Restless Daniel No Ordinary Boy: A child&amp;#39;s...</td>\n",
              "      <td>[]</td>\n",
              "      <td>Visit Amazon's Cally Finsbury Page</td>\n",
              "      <td>2,661,876 Paid in Kindle Store (</td>\n",
              "      <td>[]</td>\n",
              "      <td>{'File Size:': '177 KB', 'Print Length:': '47 ...</td>\n",
              "      <td>Buy a Kindle</td>\n",
              "      <td>B01HJH8CDS</td>\n",
              "    </tr>\n",
              "    <tr>\n",
              "      <th>491669</th>\n",
              "      <td>[Kindle Store, Kindle eBooks, Literature &amp; Fic...</td>\n",
              "      <td>Flint of Dreams - Kindle edition</td>\n",
              "      <td>[B07L8JHQWC, B07H31JY76, B079Q8QM87, B07C2YPQ2...</td>\n",
              "      <td>Visit Amazon's Charles Peterson Sheppard Page</td>\n",
              "      <td>293,775 Paid in Kindle Store (</td>\n",
              "      <td>[B00DJANLQS, B07M9BH3LS, B00NNNCA7M, B00AGZ27F...</td>\n",
              "      <td>{'File Size:': '761 KB', 'Print Length:': '341...</td>\n",
              "      <td>Buy a Kindle</td>\n",
              "      <td>B01HJH82WY</td>\n",
              "    </tr>\n",
              "  </tbody>\n",
              "</table>\n",
              "<p>491670 rows × 9 columns</p>\n",
              "</div>"
            ],
            "text/plain": [
              "                                                 category  ...        asin\n",
              "0       [Kindle Store, Kindle eBooks, Science Fiction ...  ...  B000FA5KKA\n",
              "1       [Kindle Store, Kindle eBooks, Engineering & Tr...  ...  B000FA5M3K\n",
              "2       [Kindle Store, Kindle eBooks, Biographies & Me...  ...  B000FA5KJQ\n",
              "3       [Kindle Store, Kindle eBooks, Science Fiction ...  ...  B000FA5NSO\n",
              "4         [Kindle Store, Kindle eBooks, Business & Money]  ...  B000FA5KX2\n",
              "...                                                   ...  ...         ...\n",
              "491665  [Kindle Store, Kindle eBooks, Science Fiction ...  ...  B01HJDS9W6\n",
              "491666  [Kindle Store, Kindle eBooks, Literature & Fic...  ...  B01HJENY3Y\n",
              "491667  [Kindle Store, Kindle eBooks, Religion & Spiri...  ...  B01HJFVTKS\n",
              "491668  [Kindle Store, Kindle eBooks, Literature & Fic...  ...  B01HJH8CDS\n",
              "491669  [Kindle Store, Kindle eBooks, Literature & Fic...  ...  B01HJH82WY\n",
              "\n",
              "[491670 rows x 9 columns]"
            ]
          },
          "metadata": {},
          "execution_count": 115
        }
      ]
    },
    {
      "cell_type": "code",
      "metadata": {
        "id": "my3jCgSB9YNk",
        "colab": {
          "base_uri": "https://localhost:8080/"
        },
        "outputId": "7485b0bb-2d73-4562-a5ba-0caaac654342"
      },
      "source": [
        "meta_data.rank"
      ],
      "execution_count": null,
      "outputs": [
        {
          "output_type": "execute_result",
          "data": {
            "text/plain": [
              "<bound method NDFrame.rank of                                                  category  ...        asin\n",
              "0       [Kindle Store, Kindle eBooks, Science Fiction ...  ...  B000FA5KKA\n",
              "1       [Kindle Store, Kindle eBooks, Engineering & Tr...  ...  B000FA5M3K\n",
              "2       [Kindle Store, Kindle eBooks, Biographies & Me...  ...  B000FA5KJQ\n",
              "3       [Kindle Store, Kindle eBooks, Science Fiction ...  ...  B000FA5NSO\n",
              "4         [Kindle Store, Kindle eBooks, Business & Money]  ...  B000FA5KX2\n",
              "...                                                   ...  ...         ...\n",
              "491665  [Kindle Store, Kindle eBooks, Science Fiction ...  ...  B01HJDS9W6\n",
              "491666  [Kindle Store, Kindle eBooks, Literature & Fic...  ...  B01HJENY3Y\n",
              "491667  [Kindle Store, Kindle eBooks, Religion & Spiri...  ...  B01HJFVTKS\n",
              "491668  [Kindle Store, Kindle eBooks, Literature & Fic...  ...  B01HJH8CDS\n",
              "491669  [Kindle Store, Kindle eBooks, Literature & Fic...  ...  B01HJH82WY\n",
              "\n",
              "[491670 rows x 9 columns]>"
            ]
          },
          "metadata": {},
          "execution_count": 116
        }
      ]
    },
    {
      "cell_type": "code",
      "metadata": {
        "id": "mkyoEECS_99m",
        "colab": {
          "base_uri": "https://localhost:8080/"
        },
        "outputId": "2fb51f01-2528-4815-d57e-05fa64205162"
      },
      "source": [
        "meta_data.category"
      ],
      "execution_count": null,
      "outputs": [
        {
          "output_type": "execute_result",
          "data": {
            "text/plain": [
              "0         [Kindle Store, Kindle eBooks, Science Fiction ...\n",
              "1         [Kindle Store, Kindle eBooks, Engineering & Tr...\n",
              "2         [Kindle Store, Kindle eBooks, Biographies & Me...\n",
              "3         [Kindle Store, Kindle eBooks, Science Fiction ...\n",
              "4           [Kindle Store, Kindle eBooks, Business & Money]\n",
              "                                ...                        \n",
              "491665    [Kindle Store, Kindle eBooks, Science Fiction ...\n",
              "491666    [Kindle Store, Kindle eBooks, Literature & Fic...\n",
              "491667    [Kindle Store, Kindle eBooks, Religion & Spiri...\n",
              "491668    [Kindle Store, Kindle eBooks, Literature & Fic...\n",
              "491669    [Kindle Store, Kindle eBooks, Literature & Fic...\n",
              "Name: category, Length: 491670, dtype: object"
            ]
          },
          "metadata": {},
          "execution_count": 117
        }
      ]
    },
    {
      "cell_type": "code",
      "metadata": {
        "colab": {
          "base_uri": "https://localhost:8080/",
          "height": 1000
        },
        "id": "ve2fTgYSG0NM",
        "outputId": "8f538708-b69e-4f97-da13-de1c0a79d6d5"
      },
      "source": [
        "meta_data.drop(columns=['rank'],inplace =True)\n",
        "meta_data"
      ],
      "execution_count": null,
      "outputs": [
        {
          "output_type": "execute_result",
          "data": {
            "text/html": [
              "<div>\n",
              "<style scoped>\n",
              "    .dataframe tbody tr th:only-of-type {\n",
              "        vertical-align: middle;\n",
              "    }\n",
              "\n",
              "    .dataframe tbody tr th {\n",
              "        vertical-align: top;\n",
              "    }\n",
              "\n",
              "    .dataframe thead th {\n",
              "        text-align: right;\n",
              "    }\n",
              "</style>\n",
              "<table border=\"1\" class=\"dataframe\">\n",
              "  <thead>\n",
              "    <tr style=\"text-align: right;\">\n",
              "      <th></th>\n",
              "      <th>category</th>\n",
              "      <th>title</th>\n",
              "      <th>also_buy</th>\n",
              "      <th>brand</th>\n",
              "      <th>also_view</th>\n",
              "      <th>details</th>\n",
              "      <th>main_cat</th>\n",
              "      <th>asin</th>\n",
              "    </tr>\n",
              "  </thead>\n",
              "  <tbody>\n",
              "    <tr>\n",
              "      <th>0</th>\n",
              "      <td>[Kindle Store, Kindle eBooks, Science Fiction ...</td>\n",
              "      <td>NaN</td>\n",
              "      <td>[B007NLCJBC, B01FARODH8]</td>\n",
              "      <td>Arthur K. Barnes</td>\n",
              "      <td>[B000FBF81K, B00PBDMER8]</td>\n",
              "      <td>{'File Size:': '295 KB', 'Print Length:': '113...</td>\n",
              "      <td>Buy a Kindle</td>\n",
              "      <td>B000FA5KKA</td>\n",
              "    </tr>\n",
              "    <tr>\n",
              "      <th>1</th>\n",
              "      <td>[Kindle Store, Kindle eBooks, Engineering &amp; Tr...</td>\n",
              "      <td>NaN</td>\n",
              "      <td>[B00AYWTHZS, B071CTK28D]</td>\n",
              "      <td>Visit Amazon's Paul A. Craig Page</td>\n",
              "      <td>[B00AYWTHZS]</td>\n",
              "      <td>{'File Size:': '1648 KB', 'Print Length:': '26...</td>\n",
              "      <td>Buy a Kindle</td>\n",
              "      <td>B000FA5M3K</td>\n",
              "    </tr>\n",
              "    <tr>\n",
              "      <th>2</th>\n",
              "      <td>[Kindle Store, Kindle eBooks, Biographies &amp; Me...</td>\n",
              "      <td>NaN</td>\n",
              "      <td>[]</td>\n",
              "      <td>Jean Marie Stine</td>\n",
              "      <td>[]</td>\n",
              "      <td>{'File Size:': '262 KB', 'Print Length:': '103...</td>\n",
              "      <td>Buy a Kindle</td>\n",
              "      <td>B000FA5KJQ</td>\n",
              "    </tr>\n",
              "    <tr>\n",
              "      <th>3</th>\n",
              "      <td>[Kindle Store, Kindle eBooks, Science Fiction ...</td>\n",
              "      <td>NaN</td>\n",
              "      <td>[]</td>\n",
              "      <td>Arthur K. Barnes</td>\n",
              "      <td>[]</td>\n",
              "      <td>{'File Size:': '251 KB', 'Print Length:': '116...</td>\n",
              "      <td>Buy a Kindle</td>\n",
              "      <td>B000FA5NSO</td>\n",
              "    </tr>\n",
              "    <tr>\n",
              "      <th>4</th>\n",
              "      <td>[Kindle Store, Kindle eBooks, Business &amp; Money]</td>\n",
              "      <td>NaN</td>\n",
              "      <td>[B000SEGKF2, B004774LR0, B018LE1KUK, B0015DRO7...</td>\n",
              "      <td>Visit Amazon's Ethan M. Rasiel Page</td>\n",
              "      <td>[B018LE1KUK, B000SEGKF2, B007XWFZSA, B0015DRO7...</td>\n",
              "      <td>{'File Size:': '953 KB', 'Print Length:': '187...</td>\n",
              "      <td>Buy a Kindle</td>\n",
              "      <td>B000FA5KX2</td>\n",
              "    </tr>\n",
              "    <tr>\n",
              "      <th>...</th>\n",
              "      <td>...</td>\n",
              "      <td>...</td>\n",
              "      <td>...</td>\n",
              "      <td>...</td>\n",
              "      <td>...</td>\n",
              "      <td>...</td>\n",
              "      <td>...</td>\n",
              "      <td>...</td>\n",
              "    </tr>\n",
              "    <tr>\n",
              "      <th>491665</th>\n",
              "      <td>[Kindle Store, Kindle eBooks, Science Fiction ...</td>\n",
              "      <td>Den of Dark Angels eBook</td>\n",
              "      <td>[]</td>\n",
              "      <td>Visit Amazon's Kenna McKinnon Page</td>\n",
              "      <td>[B07LB2LY17, B07DMZJ29M, B00O3GTJEU, B077XG66X...</td>\n",
              "      <td>{'File Size:': '1918 KB', 'Print Length:': '30...</td>\n",
              "      <td>Buy a Kindle</td>\n",
              "      <td>B01HJDS9W6</td>\n",
              "    </tr>\n",
              "    <tr>\n",
              "      <th>491666</th>\n",
              "      <td>[Kindle Store, Kindle eBooks, Literature &amp; Fic...</td>\n",
              "      <td>Poison Kisses 2: My Best Kept Secret - Kindle ...</td>\n",
              "      <td>[B01F1X1630, B07C7G3YFN, B07CYV92TH]</td>\n",
              "      <td>Visit Amazon's Kia Meche' Page</td>\n",
              "      <td>[B01F1X1630]</td>\n",
              "      <td>{'File Size:': '3159 KB', 'Print Length:': '15...</td>\n",
              "      <td>Buy a Kindle</td>\n",
              "      <td>B01HJENY3Y</td>\n",
              "    </tr>\n",
              "    <tr>\n",
              "      <th>491667</th>\n",
              "      <td>[Kindle Store, Kindle eBooks, Religion &amp; Spiri...</td>\n",
              "      <td>Renewing Your Mind!: Secrets to Having All You...</td>\n",
              "      <td>[B06VVS5NTN, B01BWYW7DK, B01K7T52JM, B079DTMZR...</td>\n",
              "      <td>Visit Amazon's MICHAEL ENDWELL Page</td>\n",
              "      <td>[B06VVS5NTN, B01K9D9EKE, B07HRLXB59, B071HBRKN...</td>\n",
              "      <td>{'File Size:': '658 KB', 'Print Length:': '37 ...</td>\n",
              "      <td>Buy a Kindle</td>\n",
              "      <td>B01HJFVTKS</td>\n",
              "    </tr>\n",
              "    <tr>\n",
              "      <th>491668</th>\n",
              "      <td>[Kindle Store, Kindle eBooks, Literature &amp; Fic...</td>\n",
              "      <td>Restless Daniel No Ordinary Boy: A child&amp;#39;s...</td>\n",
              "      <td>[]</td>\n",
              "      <td>Visit Amazon's Cally Finsbury Page</td>\n",
              "      <td>[]</td>\n",
              "      <td>{'File Size:': '177 KB', 'Print Length:': '47 ...</td>\n",
              "      <td>Buy a Kindle</td>\n",
              "      <td>B01HJH8CDS</td>\n",
              "    </tr>\n",
              "    <tr>\n",
              "      <th>491669</th>\n",
              "      <td>[Kindle Store, Kindle eBooks, Literature &amp; Fic...</td>\n",
              "      <td>Flint of Dreams - Kindle edition</td>\n",
              "      <td>[B07L8JHQWC, B07H31JY76, B079Q8QM87, B07C2YPQ2...</td>\n",
              "      <td>Visit Amazon's Charles Peterson Sheppard Page</td>\n",
              "      <td>[B00DJANLQS, B07M9BH3LS, B00NNNCA7M, B00AGZ27F...</td>\n",
              "      <td>{'File Size:': '761 KB', 'Print Length:': '341...</td>\n",
              "      <td>Buy a Kindle</td>\n",
              "      <td>B01HJH82WY</td>\n",
              "    </tr>\n",
              "  </tbody>\n",
              "</table>\n",
              "<p>491670 rows × 8 columns</p>\n",
              "</div>"
            ],
            "text/plain": [
              "                                                 category  ...        asin\n",
              "0       [Kindle Store, Kindle eBooks, Science Fiction ...  ...  B000FA5KKA\n",
              "1       [Kindle Store, Kindle eBooks, Engineering & Tr...  ...  B000FA5M3K\n",
              "2       [Kindle Store, Kindle eBooks, Biographies & Me...  ...  B000FA5KJQ\n",
              "3       [Kindle Store, Kindle eBooks, Science Fiction ...  ...  B000FA5NSO\n",
              "4         [Kindle Store, Kindle eBooks, Business & Money]  ...  B000FA5KX2\n",
              "...                                                   ...  ...         ...\n",
              "491665  [Kindle Store, Kindle eBooks, Science Fiction ...  ...  B01HJDS9W6\n",
              "491666  [Kindle Store, Kindle eBooks, Literature & Fic...  ...  B01HJENY3Y\n",
              "491667  [Kindle Store, Kindle eBooks, Religion & Spiri...  ...  B01HJFVTKS\n",
              "491668  [Kindle Store, Kindle eBooks, Literature & Fic...  ...  B01HJH8CDS\n",
              "491669  [Kindle Store, Kindle eBooks, Literature & Fic...  ...  B01HJH82WY\n",
              "\n",
              "[491670 rows x 8 columns]"
            ]
          },
          "metadata": {},
          "execution_count": 118
        }
      ]
    },
    {
      "cell_type": "code",
      "metadata": {
        "colab": {
          "base_uri": "https://localhost:8080/",
          "height": 957
        },
        "id": "w38wKhR4G2UP",
        "outputId": "a3da50ed-f7c7-40cf-86ce-0a837ff765e2"
      },
      "source": [
        "meta_data.drop(columns=['details'],inplace =True)\n",
        "meta_data"
      ],
      "execution_count": null,
      "outputs": [
        {
          "output_type": "execute_result",
          "data": {
            "text/html": [
              "<div>\n",
              "<style scoped>\n",
              "    .dataframe tbody tr th:only-of-type {\n",
              "        vertical-align: middle;\n",
              "    }\n",
              "\n",
              "    .dataframe tbody tr th {\n",
              "        vertical-align: top;\n",
              "    }\n",
              "\n",
              "    .dataframe thead th {\n",
              "        text-align: right;\n",
              "    }\n",
              "</style>\n",
              "<table border=\"1\" class=\"dataframe\">\n",
              "  <thead>\n",
              "    <tr style=\"text-align: right;\">\n",
              "      <th></th>\n",
              "      <th>category</th>\n",
              "      <th>title</th>\n",
              "      <th>also_buy</th>\n",
              "      <th>brand</th>\n",
              "      <th>also_view</th>\n",
              "      <th>main_cat</th>\n",
              "      <th>asin</th>\n",
              "    </tr>\n",
              "  </thead>\n",
              "  <tbody>\n",
              "    <tr>\n",
              "      <th>0</th>\n",
              "      <td>[Kindle Store, Kindle eBooks, Science Fiction ...</td>\n",
              "      <td>NaN</td>\n",
              "      <td>[B007NLCJBC, B01FARODH8]</td>\n",
              "      <td>Arthur K. Barnes</td>\n",
              "      <td>[B000FBF81K, B00PBDMER8]</td>\n",
              "      <td>Buy a Kindle</td>\n",
              "      <td>B000FA5KKA</td>\n",
              "    </tr>\n",
              "    <tr>\n",
              "      <th>1</th>\n",
              "      <td>[Kindle Store, Kindle eBooks, Engineering &amp; Tr...</td>\n",
              "      <td>NaN</td>\n",
              "      <td>[B00AYWTHZS, B071CTK28D]</td>\n",
              "      <td>Visit Amazon's Paul A. Craig Page</td>\n",
              "      <td>[B00AYWTHZS]</td>\n",
              "      <td>Buy a Kindle</td>\n",
              "      <td>B000FA5M3K</td>\n",
              "    </tr>\n",
              "    <tr>\n",
              "      <th>2</th>\n",
              "      <td>[Kindle Store, Kindle eBooks, Biographies &amp; Me...</td>\n",
              "      <td>NaN</td>\n",
              "      <td>[]</td>\n",
              "      <td>Jean Marie Stine</td>\n",
              "      <td>[]</td>\n",
              "      <td>Buy a Kindle</td>\n",
              "      <td>B000FA5KJQ</td>\n",
              "    </tr>\n",
              "    <tr>\n",
              "      <th>3</th>\n",
              "      <td>[Kindle Store, Kindle eBooks, Science Fiction ...</td>\n",
              "      <td>NaN</td>\n",
              "      <td>[]</td>\n",
              "      <td>Arthur K. Barnes</td>\n",
              "      <td>[]</td>\n",
              "      <td>Buy a Kindle</td>\n",
              "      <td>B000FA5NSO</td>\n",
              "    </tr>\n",
              "    <tr>\n",
              "      <th>4</th>\n",
              "      <td>[Kindle Store, Kindle eBooks, Business &amp; Money]</td>\n",
              "      <td>NaN</td>\n",
              "      <td>[B000SEGKF2, B004774LR0, B018LE1KUK, B0015DRO7...</td>\n",
              "      <td>Visit Amazon's Ethan M. Rasiel Page</td>\n",
              "      <td>[B018LE1KUK, B000SEGKF2, B007XWFZSA, B0015DRO7...</td>\n",
              "      <td>Buy a Kindle</td>\n",
              "      <td>B000FA5KX2</td>\n",
              "    </tr>\n",
              "    <tr>\n",
              "      <th>...</th>\n",
              "      <td>...</td>\n",
              "      <td>...</td>\n",
              "      <td>...</td>\n",
              "      <td>...</td>\n",
              "      <td>...</td>\n",
              "      <td>...</td>\n",
              "      <td>...</td>\n",
              "    </tr>\n",
              "    <tr>\n",
              "      <th>491665</th>\n",
              "      <td>[Kindle Store, Kindle eBooks, Science Fiction ...</td>\n",
              "      <td>Den of Dark Angels eBook</td>\n",
              "      <td>[]</td>\n",
              "      <td>Visit Amazon's Kenna McKinnon Page</td>\n",
              "      <td>[B07LB2LY17, B07DMZJ29M, B00O3GTJEU, B077XG66X...</td>\n",
              "      <td>Buy a Kindle</td>\n",
              "      <td>B01HJDS9W6</td>\n",
              "    </tr>\n",
              "    <tr>\n",
              "      <th>491666</th>\n",
              "      <td>[Kindle Store, Kindle eBooks, Literature &amp; Fic...</td>\n",
              "      <td>Poison Kisses 2: My Best Kept Secret - Kindle ...</td>\n",
              "      <td>[B01F1X1630, B07C7G3YFN, B07CYV92TH]</td>\n",
              "      <td>Visit Amazon's Kia Meche' Page</td>\n",
              "      <td>[B01F1X1630]</td>\n",
              "      <td>Buy a Kindle</td>\n",
              "      <td>B01HJENY3Y</td>\n",
              "    </tr>\n",
              "    <tr>\n",
              "      <th>491667</th>\n",
              "      <td>[Kindle Store, Kindle eBooks, Religion &amp; Spiri...</td>\n",
              "      <td>Renewing Your Mind!: Secrets to Having All You...</td>\n",
              "      <td>[B06VVS5NTN, B01BWYW7DK, B01K7T52JM, B079DTMZR...</td>\n",
              "      <td>Visit Amazon's MICHAEL ENDWELL Page</td>\n",
              "      <td>[B06VVS5NTN, B01K9D9EKE, B07HRLXB59, B071HBRKN...</td>\n",
              "      <td>Buy a Kindle</td>\n",
              "      <td>B01HJFVTKS</td>\n",
              "    </tr>\n",
              "    <tr>\n",
              "      <th>491668</th>\n",
              "      <td>[Kindle Store, Kindle eBooks, Literature &amp; Fic...</td>\n",
              "      <td>Restless Daniel No Ordinary Boy: A child&amp;#39;s...</td>\n",
              "      <td>[]</td>\n",
              "      <td>Visit Amazon's Cally Finsbury Page</td>\n",
              "      <td>[]</td>\n",
              "      <td>Buy a Kindle</td>\n",
              "      <td>B01HJH8CDS</td>\n",
              "    </tr>\n",
              "    <tr>\n",
              "      <th>491669</th>\n",
              "      <td>[Kindle Store, Kindle eBooks, Literature &amp; Fic...</td>\n",
              "      <td>Flint of Dreams - Kindle edition</td>\n",
              "      <td>[B07L8JHQWC, B07H31JY76, B079Q8QM87, B07C2YPQ2...</td>\n",
              "      <td>Visit Amazon's Charles Peterson Sheppard Page</td>\n",
              "      <td>[B00DJANLQS, B07M9BH3LS, B00NNNCA7M, B00AGZ27F...</td>\n",
              "      <td>Buy a Kindle</td>\n",
              "      <td>B01HJH82WY</td>\n",
              "    </tr>\n",
              "  </tbody>\n",
              "</table>\n",
              "<p>491670 rows × 7 columns</p>\n",
              "</div>"
            ],
            "text/plain": [
              "                                                 category  ...        asin\n",
              "0       [Kindle Store, Kindle eBooks, Science Fiction ...  ...  B000FA5KKA\n",
              "1       [Kindle Store, Kindle eBooks, Engineering & Tr...  ...  B000FA5M3K\n",
              "2       [Kindle Store, Kindle eBooks, Biographies & Me...  ...  B000FA5KJQ\n",
              "3       [Kindle Store, Kindle eBooks, Science Fiction ...  ...  B000FA5NSO\n",
              "4         [Kindle Store, Kindle eBooks, Business & Money]  ...  B000FA5KX2\n",
              "...                                                   ...  ...         ...\n",
              "491665  [Kindle Store, Kindle eBooks, Science Fiction ...  ...  B01HJDS9W6\n",
              "491666  [Kindle Store, Kindle eBooks, Literature & Fic...  ...  B01HJENY3Y\n",
              "491667  [Kindle Store, Kindle eBooks, Religion & Spiri...  ...  B01HJFVTKS\n",
              "491668  [Kindle Store, Kindle eBooks, Literature & Fic...  ...  B01HJH8CDS\n",
              "491669  [Kindle Store, Kindle eBooks, Literature & Fic...  ...  B01HJH82WY\n",
              "\n",
              "[491670 rows x 7 columns]"
            ]
          },
          "metadata": {},
          "execution_count": 119
        }
      ]
    },
    {
      "cell_type": "markdown",
      "metadata": {
        "id": "tdKIwS44GlmW"
      },
      "source": [
        "We need only the particular category since we are dealing only with the kindle books it isnt explicitly needed to mention that it is a e book so we need the 3rd element of the string category "
      ]
    },
    {
      "cell_type": "code",
      "metadata": {
        "colab": {
          "base_uri": "https://localhost:8080/",
          "height": 35
        },
        "id": "rI71lA_oHPBf",
        "outputId": "7d6a7223-c65a-467e-b4fd-1a2305c730ff"
      },
      "source": [
        "meta_data.category[1][2]"
      ],
      "execution_count": null,
      "outputs": [
        {
          "output_type": "execute_result",
          "data": {
            "application/vnd.google.colaboratory.intrinsic+json": {
              "type": "string"
            },
            "text/plain": [
              "'Engineering & Transportation'"
            ]
          },
          "metadata": {},
          "execution_count": 120
        }
      ]
    },
    {
      "cell_type": "markdown",
      "metadata": {
        "id": "pxRymRxlG_ih"
      },
      "source": [
        "Filling the title whih is not known with Not Known since there are only less values"
      ]
    },
    {
      "cell_type": "code",
      "metadata": {
        "id": "kzZkOWdgIE3P"
      },
      "source": [
        "meta_data.title.fillna(\"Not_known\",inplace=True)"
      ],
      "execution_count": null,
      "outputs": []
    },
    {
      "cell_type": "markdown",
      "metadata": {
        "id": "U5PXjO93HHxx"
      },
      "source": [
        "As mentioned above all the category is moved to the new column Correct_category"
      ]
    },
    {
      "cell_type": "code",
      "metadata": {
        "id": "eRqMJlvEIZwZ",
        "colab": {
          "base_uri": "https://localhost:8080/"
        },
        "outputId": "fbbef740-0aca-495c-e6dd-11b294c5fe23"
      },
      "source": [
        "meta_data[\"Correct_Category\"] = meta_data.category.str[2]\n",
        "meta_data.Correct_Category"
      ],
      "execution_count": null,
      "outputs": [
        {
          "output_type": "execute_result",
          "data": {
            "text/plain": [
              "0            Science Fiction & Fantasy\n",
              "1         Engineering & Transportation\n",
              "2                Biographies & Memoirs\n",
              "3            Science Fiction & Fantasy\n",
              "4                     Business & Money\n",
              "                      ...             \n",
              "491665       Science Fiction & Fantasy\n",
              "491666            Literature & Fiction\n",
              "491667         Religion & Spirituality\n",
              "491668            Literature & Fiction\n",
              "491669            Literature & Fiction\n",
              "Name: Correct_Category, Length: 491670, dtype: object"
            ]
          },
          "metadata": {},
          "execution_count": 122
        }
      ]
    },
    {
      "cell_type": "code",
      "metadata": {
        "colab": {
          "base_uri": "https://localhost:8080/",
          "height": 1000
        },
        "id": "i9Xn_fqPKo8t",
        "outputId": "354917ea-2111-410a-f101-5eea9bf8efe5"
      },
      "source": [
        "meta_data"
      ],
      "execution_count": null,
      "outputs": [
        {
          "output_type": "execute_result",
          "data": {
            "text/html": [
              "<div>\n",
              "<style scoped>\n",
              "    .dataframe tbody tr th:only-of-type {\n",
              "        vertical-align: middle;\n",
              "    }\n",
              "\n",
              "    .dataframe tbody tr th {\n",
              "        vertical-align: top;\n",
              "    }\n",
              "\n",
              "    .dataframe thead th {\n",
              "        text-align: right;\n",
              "    }\n",
              "</style>\n",
              "<table border=\"1\" class=\"dataframe\">\n",
              "  <thead>\n",
              "    <tr style=\"text-align: right;\">\n",
              "      <th></th>\n",
              "      <th>category</th>\n",
              "      <th>title</th>\n",
              "      <th>also_buy</th>\n",
              "      <th>brand</th>\n",
              "      <th>also_view</th>\n",
              "      <th>main_cat</th>\n",
              "      <th>asin</th>\n",
              "      <th>Correct_Category</th>\n",
              "    </tr>\n",
              "  </thead>\n",
              "  <tbody>\n",
              "    <tr>\n",
              "      <th>0</th>\n",
              "      <td>[Kindle Store, Kindle eBooks, Science Fiction ...</td>\n",
              "      <td>Not_known</td>\n",
              "      <td>[B007NLCJBC, B01FARODH8]</td>\n",
              "      <td>Arthur K. Barnes</td>\n",
              "      <td>[B000FBF81K, B00PBDMER8]</td>\n",
              "      <td>Buy a Kindle</td>\n",
              "      <td>B000FA5KKA</td>\n",
              "      <td>Science Fiction &amp; Fantasy</td>\n",
              "    </tr>\n",
              "    <tr>\n",
              "      <th>1</th>\n",
              "      <td>[Kindle Store, Kindle eBooks, Engineering &amp; Tr...</td>\n",
              "      <td>Not_known</td>\n",
              "      <td>[B00AYWTHZS, B071CTK28D]</td>\n",
              "      <td>Visit Amazon's Paul A. Craig Page</td>\n",
              "      <td>[B00AYWTHZS]</td>\n",
              "      <td>Buy a Kindle</td>\n",
              "      <td>B000FA5M3K</td>\n",
              "      <td>Engineering &amp; Transportation</td>\n",
              "    </tr>\n",
              "    <tr>\n",
              "      <th>2</th>\n",
              "      <td>[Kindle Store, Kindle eBooks, Biographies &amp; Me...</td>\n",
              "      <td>Not_known</td>\n",
              "      <td>[]</td>\n",
              "      <td>Jean Marie Stine</td>\n",
              "      <td>[]</td>\n",
              "      <td>Buy a Kindle</td>\n",
              "      <td>B000FA5KJQ</td>\n",
              "      <td>Biographies &amp; Memoirs</td>\n",
              "    </tr>\n",
              "    <tr>\n",
              "      <th>3</th>\n",
              "      <td>[Kindle Store, Kindle eBooks, Science Fiction ...</td>\n",
              "      <td>Not_known</td>\n",
              "      <td>[]</td>\n",
              "      <td>Arthur K. Barnes</td>\n",
              "      <td>[]</td>\n",
              "      <td>Buy a Kindle</td>\n",
              "      <td>B000FA5NSO</td>\n",
              "      <td>Science Fiction &amp; Fantasy</td>\n",
              "    </tr>\n",
              "    <tr>\n",
              "      <th>4</th>\n",
              "      <td>[Kindle Store, Kindle eBooks, Business &amp; Money]</td>\n",
              "      <td>Not_known</td>\n",
              "      <td>[B000SEGKF2, B004774LR0, B018LE1KUK, B0015DRO7...</td>\n",
              "      <td>Visit Amazon's Ethan M. Rasiel Page</td>\n",
              "      <td>[B018LE1KUK, B000SEGKF2, B007XWFZSA, B0015DRO7...</td>\n",
              "      <td>Buy a Kindle</td>\n",
              "      <td>B000FA5KX2</td>\n",
              "      <td>Business &amp; Money</td>\n",
              "    </tr>\n",
              "    <tr>\n",
              "      <th>...</th>\n",
              "      <td>...</td>\n",
              "      <td>...</td>\n",
              "      <td>...</td>\n",
              "      <td>...</td>\n",
              "      <td>...</td>\n",
              "      <td>...</td>\n",
              "      <td>...</td>\n",
              "      <td>...</td>\n",
              "    </tr>\n",
              "    <tr>\n",
              "      <th>491665</th>\n",
              "      <td>[Kindle Store, Kindle eBooks, Science Fiction ...</td>\n",
              "      <td>Den of Dark Angels eBook</td>\n",
              "      <td>[]</td>\n",
              "      <td>Visit Amazon's Kenna McKinnon Page</td>\n",
              "      <td>[B07LB2LY17, B07DMZJ29M, B00O3GTJEU, B077XG66X...</td>\n",
              "      <td>Buy a Kindle</td>\n",
              "      <td>B01HJDS9W6</td>\n",
              "      <td>Science Fiction &amp; Fantasy</td>\n",
              "    </tr>\n",
              "    <tr>\n",
              "      <th>491666</th>\n",
              "      <td>[Kindle Store, Kindle eBooks, Literature &amp; Fic...</td>\n",
              "      <td>Poison Kisses 2: My Best Kept Secret - Kindle ...</td>\n",
              "      <td>[B01F1X1630, B07C7G3YFN, B07CYV92TH]</td>\n",
              "      <td>Visit Amazon's Kia Meche' Page</td>\n",
              "      <td>[B01F1X1630]</td>\n",
              "      <td>Buy a Kindle</td>\n",
              "      <td>B01HJENY3Y</td>\n",
              "      <td>Literature &amp; Fiction</td>\n",
              "    </tr>\n",
              "    <tr>\n",
              "      <th>491667</th>\n",
              "      <td>[Kindle Store, Kindle eBooks, Religion &amp; Spiri...</td>\n",
              "      <td>Renewing Your Mind!: Secrets to Having All You...</td>\n",
              "      <td>[B06VVS5NTN, B01BWYW7DK, B01K7T52JM, B079DTMZR...</td>\n",
              "      <td>Visit Amazon's MICHAEL ENDWELL Page</td>\n",
              "      <td>[B06VVS5NTN, B01K9D9EKE, B07HRLXB59, B071HBRKN...</td>\n",
              "      <td>Buy a Kindle</td>\n",
              "      <td>B01HJFVTKS</td>\n",
              "      <td>Religion &amp; Spirituality</td>\n",
              "    </tr>\n",
              "    <tr>\n",
              "      <th>491668</th>\n",
              "      <td>[Kindle Store, Kindle eBooks, Literature &amp; Fic...</td>\n",
              "      <td>Restless Daniel No Ordinary Boy: A child&amp;#39;s...</td>\n",
              "      <td>[]</td>\n",
              "      <td>Visit Amazon's Cally Finsbury Page</td>\n",
              "      <td>[]</td>\n",
              "      <td>Buy a Kindle</td>\n",
              "      <td>B01HJH8CDS</td>\n",
              "      <td>Literature &amp; Fiction</td>\n",
              "    </tr>\n",
              "    <tr>\n",
              "      <th>491669</th>\n",
              "      <td>[Kindle Store, Kindle eBooks, Literature &amp; Fic...</td>\n",
              "      <td>Flint of Dreams - Kindle edition</td>\n",
              "      <td>[B07L8JHQWC, B07H31JY76, B079Q8QM87, B07C2YPQ2...</td>\n",
              "      <td>Visit Amazon's Charles Peterson Sheppard Page</td>\n",
              "      <td>[B00DJANLQS, B07M9BH3LS, B00NNNCA7M, B00AGZ27F...</td>\n",
              "      <td>Buy a Kindle</td>\n",
              "      <td>B01HJH82WY</td>\n",
              "      <td>Literature &amp; Fiction</td>\n",
              "    </tr>\n",
              "  </tbody>\n",
              "</table>\n",
              "<p>491670 rows × 8 columns</p>\n",
              "</div>"
            ],
            "text/plain": [
              "                                                 category  ...              Correct_Category\n",
              "0       [Kindle Store, Kindle eBooks, Science Fiction ...  ...     Science Fiction & Fantasy\n",
              "1       [Kindle Store, Kindle eBooks, Engineering & Tr...  ...  Engineering & Transportation\n",
              "2       [Kindle Store, Kindle eBooks, Biographies & Me...  ...         Biographies & Memoirs\n",
              "3       [Kindle Store, Kindle eBooks, Science Fiction ...  ...     Science Fiction & Fantasy\n",
              "4         [Kindle Store, Kindle eBooks, Business & Money]  ...              Business & Money\n",
              "...                                                   ...  ...                           ...\n",
              "491665  [Kindle Store, Kindle eBooks, Science Fiction ...  ...     Science Fiction & Fantasy\n",
              "491666  [Kindle Store, Kindle eBooks, Literature & Fic...  ...          Literature & Fiction\n",
              "491667  [Kindle Store, Kindle eBooks, Religion & Spiri...  ...       Religion & Spirituality\n",
              "491668  [Kindle Store, Kindle eBooks, Literature & Fic...  ...          Literature & Fiction\n",
              "491669  [Kindle Store, Kindle eBooks, Literature & Fic...  ...          Literature & Fiction\n",
              "\n",
              "[491670 rows x 8 columns]"
            ]
          },
          "metadata": {},
          "execution_count": 123
        }
      ]
    },
    {
      "cell_type": "markdown",
      "metadata": {
        "id": "P6KnYVRIHTGM"
      },
      "source": [
        "Removing the old category column"
      ]
    },
    {
      "cell_type": "code",
      "metadata": {
        "colab": {
          "base_uri": "https://localhost:8080/",
          "height": 923
        },
        "id": "f2tIXDLRQMtv",
        "outputId": "72c8f0d8-0b1a-48ee-91a7-7cdff80ec0dd"
      },
      "source": [
        "meta_data.drop(columns=['category'],inplace =True)\n",
        "meta_data"
      ],
      "execution_count": null,
      "outputs": [
        {
          "output_type": "execute_result",
          "data": {
            "text/html": [
              "<div>\n",
              "<style scoped>\n",
              "    .dataframe tbody tr th:only-of-type {\n",
              "        vertical-align: middle;\n",
              "    }\n",
              "\n",
              "    .dataframe tbody tr th {\n",
              "        vertical-align: top;\n",
              "    }\n",
              "\n",
              "    .dataframe thead th {\n",
              "        text-align: right;\n",
              "    }\n",
              "</style>\n",
              "<table border=\"1\" class=\"dataframe\">\n",
              "  <thead>\n",
              "    <tr style=\"text-align: right;\">\n",
              "      <th></th>\n",
              "      <th>title</th>\n",
              "      <th>also_buy</th>\n",
              "      <th>brand</th>\n",
              "      <th>also_view</th>\n",
              "      <th>main_cat</th>\n",
              "      <th>asin</th>\n",
              "      <th>Correct_Category</th>\n",
              "    </tr>\n",
              "  </thead>\n",
              "  <tbody>\n",
              "    <tr>\n",
              "      <th>0</th>\n",
              "      <td>Not_known</td>\n",
              "      <td>[B007NLCJBC, B01FARODH8]</td>\n",
              "      <td>Arthur K. Barnes</td>\n",
              "      <td>[B000FBF81K, B00PBDMER8]</td>\n",
              "      <td>Buy a Kindle</td>\n",
              "      <td>B000FA5KKA</td>\n",
              "      <td>Science Fiction &amp; Fantasy</td>\n",
              "    </tr>\n",
              "    <tr>\n",
              "      <th>1</th>\n",
              "      <td>Not_known</td>\n",
              "      <td>[B00AYWTHZS, B071CTK28D]</td>\n",
              "      <td>Visit Amazon's Paul A. Craig Page</td>\n",
              "      <td>[B00AYWTHZS]</td>\n",
              "      <td>Buy a Kindle</td>\n",
              "      <td>B000FA5M3K</td>\n",
              "      <td>Engineering &amp; Transportation</td>\n",
              "    </tr>\n",
              "    <tr>\n",
              "      <th>2</th>\n",
              "      <td>Not_known</td>\n",
              "      <td>[]</td>\n",
              "      <td>Jean Marie Stine</td>\n",
              "      <td>[]</td>\n",
              "      <td>Buy a Kindle</td>\n",
              "      <td>B000FA5KJQ</td>\n",
              "      <td>Biographies &amp; Memoirs</td>\n",
              "    </tr>\n",
              "    <tr>\n",
              "      <th>3</th>\n",
              "      <td>Not_known</td>\n",
              "      <td>[]</td>\n",
              "      <td>Arthur K. Barnes</td>\n",
              "      <td>[]</td>\n",
              "      <td>Buy a Kindle</td>\n",
              "      <td>B000FA5NSO</td>\n",
              "      <td>Science Fiction &amp; Fantasy</td>\n",
              "    </tr>\n",
              "    <tr>\n",
              "      <th>4</th>\n",
              "      <td>Not_known</td>\n",
              "      <td>[B000SEGKF2, B004774LR0, B018LE1KUK, B0015DRO7...</td>\n",
              "      <td>Visit Amazon's Ethan M. Rasiel Page</td>\n",
              "      <td>[B018LE1KUK, B000SEGKF2, B007XWFZSA, B0015DRO7...</td>\n",
              "      <td>Buy a Kindle</td>\n",
              "      <td>B000FA5KX2</td>\n",
              "      <td>Business &amp; Money</td>\n",
              "    </tr>\n",
              "    <tr>\n",
              "      <th>...</th>\n",
              "      <td>...</td>\n",
              "      <td>...</td>\n",
              "      <td>...</td>\n",
              "      <td>...</td>\n",
              "      <td>...</td>\n",
              "      <td>...</td>\n",
              "      <td>...</td>\n",
              "    </tr>\n",
              "    <tr>\n",
              "      <th>491665</th>\n",
              "      <td>Den of Dark Angels eBook</td>\n",
              "      <td>[]</td>\n",
              "      <td>Visit Amazon's Kenna McKinnon Page</td>\n",
              "      <td>[B07LB2LY17, B07DMZJ29M, B00O3GTJEU, B077XG66X...</td>\n",
              "      <td>Buy a Kindle</td>\n",
              "      <td>B01HJDS9W6</td>\n",
              "      <td>Science Fiction &amp; Fantasy</td>\n",
              "    </tr>\n",
              "    <tr>\n",
              "      <th>491666</th>\n",
              "      <td>Poison Kisses 2: My Best Kept Secret - Kindle ...</td>\n",
              "      <td>[B01F1X1630, B07C7G3YFN, B07CYV92TH]</td>\n",
              "      <td>Visit Amazon's Kia Meche' Page</td>\n",
              "      <td>[B01F1X1630]</td>\n",
              "      <td>Buy a Kindle</td>\n",
              "      <td>B01HJENY3Y</td>\n",
              "      <td>Literature &amp; Fiction</td>\n",
              "    </tr>\n",
              "    <tr>\n",
              "      <th>491667</th>\n",
              "      <td>Renewing Your Mind!: Secrets to Having All You...</td>\n",
              "      <td>[B06VVS5NTN, B01BWYW7DK, B01K7T52JM, B079DTMZR...</td>\n",
              "      <td>Visit Amazon's MICHAEL ENDWELL Page</td>\n",
              "      <td>[B06VVS5NTN, B01K9D9EKE, B07HRLXB59, B071HBRKN...</td>\n",
              "      <td>Buy a Kindle</td>\n",
              "      <td>B01HJFVTKS</td>\n",
              "      <td>Religion &amp; Spirituality</td>\n",
              "    </tr>\n",
              "    <tr>\n",
              "      <th>491668</th>\n",
              "      <td>Restless Daniel No Ordinary Boy: A child&amp;#39;s...</td>\n",
              "      <td>[]</td>\n",
              "      <td>Visit Amazon's Cally Finsbury Page</td>\n",
              "      <td>[]</td>\n",
              "      <td>Buy a Kindle</td>\n",
              "      <td>B01HJH8CDS</td>\n",
              "      <td>Literature &amp; Fiction</td>\n",
              "    </tr>\n",
              "    <tr>\n",
              "      <th>491669</th>\n",
              "      <td>Flint of Dreams - Kindle edition</td>\n",
              "      <td>[B07L8JHQWC, B07H31JY76, B079Q8QM87, B07C2YPQ2...</td>\n",
              "      <td>Visit Amazon's Charles Peterson Sheppard Page</td>\n",
              "      <td>[B00DJANLQS, B07M9BH3LS, B00NNNCA7M, B00AGZ27F...</td>\n",
              "      <td>Buy a Kindle</td>\n",
              "      <td>B01HJH82WY</td>\n",
              "      <td>Literature &amp; Fiction</td>\n",
              "    </tr>\n",
              "  </tbody>\n",
              "</table>\n",
              "<p>491670 rows × 7 columns</p>\n",
              "</div>"
            ],
            "text/plain": [
              "                                                    title  ...              Correct_Category\n",
              "0                                               Not_known  ...     Science Fiction & Fantasy\n",
              "1                                               Not_known  ...  Engineering & Transportation\n",
              "2                                               Not_known  ...         Biographies & Memoirs\n",
              "3                                               Not_known  ...     Science Fiction & Fantasy\n",
              "4                                               Not_known  ...              Business & Money\n",
              "...                                                   ...  ...                           ...\n",
              "491665                           Den of Dark Angels eBook  ...     Science Fiction & Fantasy\n",
              "491666  Poison Kisses 2: My Best Kept Secret - Kindle ...  ...          Literature & Fiction\n",
              "491667  Renewing Your Mind!: Secrets to Having All You...  ...       Religion & Spirituality\n",
              "491668  Restless Daniel No Ordinary Boy: A child&#39;s...  ...          Literature & Fiction\n",
              "491669                   Flint of Dreams - Kindle edition  ...          Literature & Fiction\n",
              "\n",
              "[491670 rows x 7 columns]"
            ]
          },
          "metadata": {},
          "execution_count": 124
        }
      ]
    },
    {
      "cell_type": "markdown",
      "metadata": {
        "id": "qbYFd1umHYB8"
      },
      "source": [
        "Since the main_cat is having only one value that is the Buy a kindle it isnt much of use when we are handing only for a particular section as in here we are dealing only with only kindle books"
      ]
    },
    {
      "cell_type": "code",
      "metadata": {
        "colab": {
          "base_uri": "https://localhost:8080/"
        },
        "id": "usbtO17qQRyW",
        "outputId": "0fffc47f-9686-4842-e7a8-71c9ca5ab7a7"
      },
      "source": [
        "meta_data.main_cat.unique()"
      ],
      "execution_count": null,
      "outputs": [
        {
          "output_type": "execute_result",
          "data": {
            "text/plain": [
              "array(['Buy a Kindle', nan], dtype=object)"
            ]
          },
          "metadata": {},
          "execution_count": 125
        }
      ]
    },
    {
      "cell_type": "code",
      "metadata": {
        "colab": {
          "base_uri": "https://localhost:8080/",
          "height": 785
        },
        "id": "UVhgz0QxQ2HR",
        "outputId": "310a847c-6dd4-4099-e5b0-c42dda6adbf1"
      },
      "source": [
        "meta_data.drop(columns=['main_cat'],inplace =True)\n",
        "meta_data"
      ],
      "execution_count": null,
      "outputs": [
        {
          "output_type": "execute_result",
          "data": {
            "text/html": [
              "<div>\n",
              "<style scoped>\n",
              "    .dataframe tbody tr th:only-of-type {\n",
              "        vertical-align: middle;\n",
              "    }\n",
              "\n",
              "    .dataframe tbody tr th {\n",
              "        vertical-align: top;\n",
              "    }\n",
              "\n",
              "    .dataframe thead th {\n",
              "        text-align: right;\n",
              "    }\n",
              "</style>\n",
              "<table border=\"1\" class=\"dataframe\">\n",
              "  <thead>\n",
              "    <tr style=\"text-align: right;\">\n",
              "      <th></th>\n",
              "      <th>title</th>\n",
              "      <th>also_buy</th>\n",
              "      <th>brand</th>\n",
              "      <th>also_view</th>\n",
              "      <th>asin</th>\n",
              "      <th>Correct_Category</th>\n",
              "    </tr>\n",
              "  </thead>\n",
              "  <tbody>\n",
              "    <tr>\n",
              "      <th>0</th>\n",
              "      <td>Not_known</td>\n",
              "      <td>[B007NLCJBC, B01FARODH8]</td>\n",
              "      <td>Arthur K. Barnes</td>\n",
              "      <td>[B000FBF81K, B00PBDMER8]</td>\n",
              "      <td>B000FA5KKA</td>\n",
              "      <td>Science Fiction &amp; Fantasy</td>\n",
              "    </tr>\n",
              "    <tr>\n",
              "      <th>1</th>\n",
              "      <td>Not_known</td>\n",
              "      <td>[B00AYWTHZS, B071CTK28D]</td>\n",
              "      <td>Visit Amazon's Paul A. Craig Page</td>\n",
              "      <td>[B00AYWTHZS]</td>\n",
              "      <td>B000FA5M3K</td>\n",
              "      <td>Engineering &amp; Transportation</td>\n",
              "    </tr>\n",
              "    <tr>\n",
              "      <th>2</th>\n",
              "      <td>Not_known</td>\n",
              "      <td>[]</td>\n",
              "      <td>Jean Marie Stine</td>\n",
              "      <td>[]</td>\n",
              "      <td>B000FA5KJQ</td>\n",
              "      <td>Biographies &amp; Memoirs</td>\n",
              "    </tr>\n",
              "    <tr>\n",
              "      <th>3</th>\n",
              "      <td>Not_known</td>\n",
              "      <td>[]</td>\n",
              "      <td>Arthur K. Barnes</td>\n",
              "      <td>[]</td>\n",
              "      <td>B000FA5NSO</td>\n",
              "      <td>Science Fiction &amp; Fantasy</td>\n",
              "    </tr>\n",
              "    <tr>\n",
              "      <th>4</th>\n",
              "      <td>Not_known</td>\n",
              "      <td>[B000SEGKF2, B004774LR0, B018LE1KUK, B0015DRO7...</td>\n",
              "      <td>Visit Amazon's Ethan M. Rasiel Page</td>\n",
              "      <td>[B018LE1KUK, B000SEGKF2, B007XWFZSA, B0015DRO7...</td>\n",
              "      <td>B000FA5KX2</td>\n",
              "      <td>Business &amp; Money</td>\n",
              "    </tr>\n",
              "    <tr>\n",
              "      <th>...</th>\n",
              "      <td>...</td>\n",
              "      <td>...</td>\n",
              "      <td>...</td>\n",
              "      <td>...</td>\n",
              "      <td>...</td>\n",
              "      <td>...</td>\n",
              "    </tr>\n",
              "    <tr>\n",
              "      <th>491665</th>\n",
              "      <td>Den of Dark Angels eBook</td>\n",
              "      <td>[]</td>\n",
              "      <td>Visit Amazon's Kenna McKinnon Page</td>\n",
              "      <td>[B07LB2LY17, B07DMZJ29M, B00O3GTJEU, B077XG66X...</td>\n",
              "      <td>B01HJDS9W6</td>\n",
              "      <td>Science Fiction &amp; Fantasy</td>\n",
              "    </tr>\n",
              "    <tr>\n",
              "      <th>491666</th>\n",
              "      <td>Poison Kisses 2: My Best Kept Secret - Kindle ...</td>\n",
              "      <td>[B01F1X1630, B07C7G3YFN, B07CYV92TH]</td>\n",
              "      <td>Visit Amazon's Kia Meche' Page</td>\n",
              "      <td>[B01F1X1630]</td>\n",
              "      <td>B01HJENY3Y</td>\n",
              "      <td>Literature &amp; Fiction</td>\n",
              "    </tr>\n",
              "    <tr>\n",
              "      <th>491667</th>\n",
              "      <td>Renewing Your Mind!: Secrets to Having All You...</td>\n",
              "      <td>[B06VVS5NTN, B01BWYW7DK, B01K7T52JM, B079DTMZR...</td>\n",
              "      <td>Visit Amazon's MICHAEL ENDWELL Page</td>\n",
              "      <td>[B06VVS5NTN, B01K9D9EKE, B07HRLXB59, B071HBRKN...</td>\n",
              "      <td>B01HJFVTKS</td>\n",
              "      <td>Religion &amp; Spirituality</td>\n",
              "    </tr>\n",
              "    <tr>\n",
              "      <th>491668</th>\n",
              "      <td>Restless Daniel No Ordinary Boy: A child&amp;#39;s...</td>\n",
              "      <td>[]</td>\n",
              "      <td>Visit Amazon's Cally Finsbury Page</td>\n",
              "      <td>[]</td>\n",
              "      <td>B01HJH8CDS</td>\n",
              "      <td>Literature &amp; Fiction</td>\n",
              "    </tr>\n",
              "    <tr>\n",
              "      <th>491669</th>\n",
              "      <td>Flint of Dreams - Kindle edition</td>\n",
              "      <td>[B07L8JHQWC, B07H31JY76, B079Q8QM87, B07C2YPQ2...</td>\n",
              "      <td>Visit Amazon's Charles Peterson Sheppard Page</td>\n",
              "      <td>[B00DJANLQS, B07M9BH3LS, B00NNNCA7M, B00AGZ27F...</td>\n",
              "      <td>B01HJH82WY</td>\n",
              "      <td>Literature &amp; Fiction</td>\n",
              "    </tr>\n",
              "  </tbody>\n",
              "</table>\n",
              "<p>491670 rows × 6 columns</p>\n",
              "</div>"
            ],
            "text/plain": [
              "                                                    title  ...              Correct_Category\n",
              "0                                               Not_known  ...     Science Fiction & Fantasy\n",
              "1                                               Not_known  ...  Engineering & Transportation\n",
              "2                                               Not_known  ...         Biographies & Memoirs\n",
              "3                                               Not_known  ...     Science Fiction & Fantasy\n",
              "4                                               Not_known  ...              Business & Money\n",
              "...                                                   ...  ...                           ...\n",
              "491665                           Den of Dark Angels eBook  ...     Science Fiction & Fantasy\n",
              "491666  Poison Kisses 2: My Best Kept Secret - Kindle ...  ...          Literature & Fiction\n",
              "491667  Renewing Your Mind!: Secrets to Having All You...  ...       Religion & Spirituality\n",
              "491668  Restless Daniel No Ordinary Boy: A child&#39;s...  ...          Literature & Fiction\n",
              "491669                   Flint of Dreams - Kindle edition  ...          Literature & Fiction\n",
              "\n",
              "[491670 rows x 6 columns]"
            ]
          },
          "metadata": {},
          "execution_count": 126
        }
      ]
    },
    {
      "cell_type": "code",
      "metadata": {
        "id": "IezJPGYEWXJz"
      },
      "source": [
        ""
      ],
      "execution_count": null,
      "outputs": []
    }
  ]
}
